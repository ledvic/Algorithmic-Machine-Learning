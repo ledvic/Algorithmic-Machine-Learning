{
 "cells": [
  {
   "cell_type": "markdown",
   "metadata": {},
   "source": [
    "<div>\n",
    "<h1>Run the cell below to generate the road map (do not modify it)</h1></div>"
   ]
  },
  {
   "cell_type": "code",
   "execution_count": 1,
   "metadata": {
    "collapsed": false
   },
   "outputs": [
    {
     "data": {
      "application/javascript": [
       "var kernel = IPython.notebook.kernel;var thename = window.document.getElementById(\"notebook_name\").innerHTML;var command = \"THE_NOTEBOOK = \" + \"'\"+thename+\"'\";kernel.execute(command);command=\"os.environ['THE_NOTEBOOK'] = THE_NOTEBOOK\";kernel.execute(command);var cell = IPython.notebook.get_cell(2);cell.execute();IPython.notebook.get_cell(3).focus_cell();var x = $('.code_cell');$(x[1]).children('.input').hide();"
      ],
      "text/plain": [
       "<IPython.core.display.Javascript object>"
      ]
     },
     "metadata": {},
     "output_type": "display_data"
    }
   ],
   "source": [
    "%%javascript\n",
    "var kernel = IPython.notebook.kernel;var thename = window.document.getElementById(\"notebook_name\").innerHTML;var command = \"THE_NOTEBOOK = \" + \"'\"+thename+\"'\";kernel.execute(command);command=\"os.environ['THE_NOTEBOOK'] = THE_NOTEBOOK\";kernel.execute(command);var cell = IPython.notebook.get_cell(2);cell.execute();IPython.notebook.get_cell(3).focus_cell();var x = $('.code_cell');$(x[1]).children('.input').hide();"
   ]
  },
  {
   "cell_type": "code",
   "execution_count": 2,
   "metadata": {
    "collapsed": false
   },
   "outputs": [
    {
     "data": {
      "text/html": [
       "\n",
       "   <script src=\"http://code.jquery.com/jquery-latest.min.js\" type=\"text/javascript\"></script>\n",
       "   <script>\n",
       "      (function($){\n",
       "         $(document).ready(function(){\n",
       "\n",
       "         $('#cssmenu li.active').addClass('open').children('ul').show();\n",
       "            $('#cssmenu li.has-sub>a').on('click', function(){\n",
       "               $(this).removeAttr('href');\n",
       "               var margin_left = parseInt($(this).css('padding-left').replace('px', ''));\n",
       "               var element = $(this).parent('li');\n",
       "               if (element.hasClass('open')) {\n",
       "                  element.removeClass('open');\n",
       "                  element.find('li').removeClass('open');\n",
       "                  element.find('ul').slideUp(200);\n",
       "               }\n",
       "               else {\n",
       "                  element.addClass('open');\n",
       "                  element.children('ul').slideDown(200);\n",
       "                  element.siblings('li').children('ul').slideUp(200);\n",
       "                  element.siblings('li').removeClass('open');\n",
       "                  element.siblings('li').find('li').removeClass('open');\n",
       "                  element.siblings('li').find('ul').slideUp(200);\n",
       "                  element.children().find('a').css('padding-left', margin_left + 16 + \"px\");\n",
       "               }\n",
       "            });\n",
       "\n",
       "            var screen_height = $(window).height(); \n",
       "            var headerHeight = $(\"#header\").outerHeight();\n",
       "            var max_height_menu = screen_height - headerHeight;\n",
       "            $(\"#cssmenu\").css('max-height', max_height_menu + 'px');\n",
       "            $(\"#cssmenu\").css('top', headerHeight + 'px');\n",
       "            $(\"#menu-activator\").css('top', headerHeight + 'px');\n",
       "            $(\"#cssmenu\").show();\n",
       "            $(\"#menu-activator\").hide();\n",
       "\n",
       "\n",
       "            $(\"#menu-activator\").mouseover(function(){\n",
       "              $(\"#cssmenu\").show();\n",
       "              $(\"#menu-activator\").hide();\n",
       "            });\n",
       "\n",
       "\n",
       "            $(\"#cssmenu\").mouseleave(function(){\n",
       "              $(\"#cssmenu\").hide();\n",
       "              $(\"#menu-activator\").show();\n",
       "            });\n",
       "\n",
       "            $(\"div.anchor\").parent('div').addClass('bcolor');\n",
       "\n",
       "         });\n",
       "      })(jQuery);\n",
       "   </script>\n",
       "   <style>\n",
       "      @import url(http://fonts.googleapis.com/css?family=Raleway:400,200);\n",
       "      #cssmenu,\n",
       "      #cssmenu ul,\n",
       "      #cssmenu ul li,\n",
       "      #cssmenu ul li a {\n",
       "        margin: 0;\n",
       "        padding: 0;\n",
       "        border: 0;\n",
       "        list-style: none;\n",
       "        line-height: 1;\n",
       "        display: block;\n",
       "        position: relative;\n",
       "        -webkit-box-sizing: border-box;\n",
       "        -moz-box-sizing: border-box;\n",
       "        box-sizing: border-box;\n",
       "      }\n",
       "      #cssmenu {\n",
       "        width: 220px;\n",
       "        font-family: Raleway, sans-serif;\n",
       "        color: #ffffff;\n",
       "        max-height:600px;\n",
       "        overflow-y:scroll;\n",
       "        overflow-x:hidden;\n",
       "        position:fixed;\n",
       "        top:130px;\n",
       "        left:0px;\n",
       "      }\n",
       "      #cssmenu ul ul {\n",
       "        display: none;\n",
       "      }\n",
       "      #cssmenu > ul > li.active > ul {\n",
       "        display: block;\n",
       "      }\n",
       "      .align-right {\n",
       "        float: right;\n",
       "      }\n",
       "      #cssmenu > ul > li > a {\n",
       "        padding: 16px 22px;\n",
       "        cursor: pointer;\n",
       "        z-index: 2;\n",
       "        font-size: 16px;\n",
       "        text-decoration: none;\n",
       "        color: #ffffff;\n",
       "        background: #565656;\n",
       "        -webkit-transition: color .2s ease;\n",
       "        -o-transition: color .2s ease;\n",
       "        transition: color .2s ease;\n",
       "      }\n",
       "      #cssmenu > ul > li > a:hover {\n",
       "        color: #d8f3f0;\n",
       "      }\n",
       "      #cssmenu ul > li.has-sub > a:after {\n",
       "        position: absolute;\n",
       "        right: 26px;\n",
       "        top: 19px;\n",
       "        z-index: 5;\n",
       "        display: block;\n",
       "        height: 10px;\n",
       "        width: 2px;\n",
       "        background: #ffffff;\n",
       "        content: \"\";\n",
       "        -webkit-transition: all 0.1s ease-out;\n",
       "        -moz-transition: all 0.1s ease-out;\n",
       "        -ms-transition: all 0.1s ease-out;\n",
       "        -o-transition: all 0.1s ease-out;\n",
       "        transition: all 0.1s ease-out;\n",
       "      }\n",
       "      #cssmenu ul > li.has-sub > a:before {\n",
       "        position: absolute;\n",
       "        right: 22px;\n",
       "        top: 23px;\n",
       "        display: block;\n",
       "        width: 10px;\n",
       "        height: 2px;\n",
       "        background: #ffffff;\n",
       "        content: \"\";\n",
       "        -webkit-transition: all 0.1s ease-out;\n",
       "        -moz-transition: all 0.1s ease-out;\n",
       "        -ms-transition: all 0.1s ease-out;\n",
       "        -o-transition: all 0.1s ease-out;\n",
       "        transition: all 0.1s ease-out;\n",
       "      }\n",
       "      #cssmenu ul > li.has-sub.open > a:after,\n",
       "      #cssmenu ul > li.has-sub.open > a:before {\n",
       "        -webkit-transform: rotate(45deg);\n",
       "        -moz-transform: rotate(45deg);\n",
       "        -ms-transform: rotate(45deg);\n",
       "        -o-transform: rotate(45deg);\n",
       "        transform: rotate(45deg);\n",
       "      }\n",
       "      #cssmenu ul ul li a {\n",
       "        padding: 14px 22px;\n",
       "        cursor: pointer;\n",
       "        z-index: 2;\n",
       "        font-size: 14px;\n",
       "        text-decoration: none;\n",
       "        color: #dddddd;\n",
       "        background: #49505a;\n",
       "        -webkit-transition: color .2s ease;\n",
       "        -o-transition: color .2s ease;\n",
       "        transition: color .2s ease;\n",
       "      }\n",
       "      #cssmenu ul ul ul li a {\n",
       "        /*padding-left: 32px;*/\n",
       "      }\n",
       "      #cssmenu ul ul li a:hover {\n",
       "        color: #ffffff;\n",
       "      }\n",
       "      #cssmenu ul ul > li.has-sub > a:after {\n",
       "        top: 16px;\n",
       "        right: 26px;\n",
       "        background: #dddddd;\n",
       "      }\n",
       "      #cssmenu ul ul > li.has-sub > a:before {\n",
       "        top: 20px;\n",
       "        background: #dddddd;\n",
       "      }\n",
       "      #menu-activator {\n",
       "        position: fixed;\n",
       "        top: 130px;\n",
       "        left: 0px;\n",
       "        width: 60px;\n",
       "        padding: 16px 20px;\n",
       "        display: block;\n",
       "        background-color: #565656;\n",
       "        font-size: 16px;\n",
       "        color: white;\n",
       "      }\n",
       "\n",
       "      div.bcolor, span.bcolor {\n",
       "      \tborder-radius: 15px; \n",
       "      \tbackground: rgb(224,239,130);\n",
       "      \tpadding:10px;\n",
       "      }\n",
       "\n",
       "      div.answer, div.comment, div.note {\n",
       "        background-color: rgb(255, 235, 218);\n",
       "        padding: 10px;\n",
       "        border-radius: 5px;\n",
       "      }\n",
       "\n",
       "      div.comment::before, div.answer::before, div.note::before {\n",
       "          background-color: yellow;\n",
       "          color: red;\n",
       "          font-weight: bold;\n",
       "          margin-right:5px;\n",
       "          padding:3px;\n",
       "      }\n",
       "\n",
       "      div.comment::before {\n",
       "        content: \"Comment:\";\n",
       "      }\n",
       "\n",
       "      div.answer::before {\n",
       "        content: \"Answer:\";\n",
       "      }\n",
       "\n",
       "      div.note::before {\n",
       "        content: \"Note:\";\n",
       "      }\n",
       "\n",
       "      @media print{\n",
       "      \t#cssmenu {\n",
       "      \t\tdisplay:none;\n",
       "      \t}\n",
       "      }\n",
       "   </style>\n",
       "   <title>Roadmap</title>\n",
       "</head>\n",
       "<body>\n",
       "<div id=\"menu-activator\">O</div>\n",
       "<div id='cssmenu'>\n",
       "<ul>\n",
       "<li class='has-sub'><a href=\"#\">ROADMAP</a>\n",
       "<ul><li class='has-sub'><a href='#Estimating-Financial-Risk-through-Monte-Carlo-Simulation'>Estimating Financial Risk through Monte Carlo Simulation</a><ul><li><a href='#Goals'>Goals</a></li><li><a href='#Steps'>Steps</a></li><li><a href='#Reference'>Reference</a></li></ul></li><li class='has-sub'><a href='#1.-Introduction'>1. Introduction</a><ul><li><a href='#1.1.-Monte-Carlo-Simulation-(MCS)'>1.1. Monte Carlo Simulation (MCS)</a></li><li><a href='#1.2.-How-does-it-work?'>1.2. How does it work?</a></li></ul></li><li class='has-sub'><a href='#2.-Illustrative-example'>2. Illustrative example</a><ul><li class='has-sub'><a href='#2.1.-Unit-sales-and-unit-price'>2.1. Unit sales and unit price</a><ul><li><a href='#Question-1'>Question 1</a></li></ul></li><li><a href='#2.2.-Unit-Cost'>2.2. Unit Cost</a></li><li class='has-sub'><a href='#2.3.-A-Flawed-Model:-using-averages-to-represent-our-random-variables'>2.3. A Flawed Model: using averages to represent our random variables</a><ul><li class='has-sub'><a href='#Question-2'>Question 2</a><ul><li><a href='#Question-2.1'>Question 2.1</a></li><li><a href='#Question-2.2'>Question 2.2</a></li></ul></li></ul></li><li class='has-sub'><a href='#2.4.-Using-the-Monte-Carlo-Simulation-method-to-improve-our-model'>2.4. Using the Monte Carlo Simulation method to improve our model</a><ul><li class='has-sub'><a href='#Question-3'>Question 3</a><ul><li><a href='#Question-3.1'>Question 3.1</a></li><li><a href='#Question-3.2'>Question 3.2</a></li></ul></li></ul></li></ul></li><li><a href='#3.-A-brief-summary-of-the-Monte-Carlo-Simulation-(MCS)-technique'>3. A brief summary of the Monte Carlo Simulation (MCS) technique</a></li><li><a href='#4.-Common-distributions-used-in-MCS'>4. Common distributions used in MCS</a></li><li class='has-sub'><a href='#5.-A-real-use-case:-estimating-the-financial-risk-of-a-portfolio-of-stocks'>5. A real use case: estimating the financial risk of a portfolio of stocks</a><ul><li><a href='#5.1.-Terminology'>5.1. Terminology</a></li><li><a href='#5.2.-The-context-of-our-use-case'>5.2. The context of our use case</a></li><li><a href='#5.3.-The-Data'>5.3. The Data</a></li><li class='has-sub'><a href='#5.4.-Data-preprocessing'>5.4. Data preprocessing</a><ul><li><a href='#Factor-data-pre-processing'>Factor data pre-processing</a></li><li class='has-sub'><a href='#Question-4'>Question 4</a><ul><li><a href='#Question-4.1'>Question 4.1</a></li><li><a href='#Question-4.2'>Question 4.2</a></li></ul></li><li class='has-sub'><a href='#Stock-data-pre-processing'>Stock data pre-processing</a><ul><li><a href='#Question-4.3'>Question 4.3</a></li></ul></li><li class='has-sub'><a href='#Time-alignment-for-our-data'>Time alignment for our data</a><ul><li><a href='#Question-4.4'>Question 4.4</a></li></ul></li><li class='has-sub'><a href='#Dealing-with-missing-values'>Dealing with missing values</a><ul><li><a href='#Question-4.5'>Question 4.5</a></li><li><a href='#Question-4.6'>Question 4.6</a></li></ul></li></ul></li><li><a href='#5.5.-Summary-guidelines-to-apply-the-MCS-method-on-the-data-we-prepared'>5.5. Summary guidelines to apply the MCS method on the data we prepared</a></li><li class='has-sub'><a href='#5.6.-Applying-MCS'>5.6. Applying MCS</a><ul><li><a href='#Step-1:-Defining-relationship-between-market-factors-and-instrument's-returns'>Step 1: Defining relationship between market factors and instrument's returns</a></li><li class='has-sub'><a href='#Question-5'>Question 5</a><ul><li><a href='#Question-5.1'>Question 5.1</a></li><li><a href='#Question-5.2'>Question 5.2</a></li><li><a href='#Question-5.3'>Question 5.3</a></li></ul></li><li><a href='#Step-2:-Defining-the-distributions-for-the-market-conditions'>Step 2: Defining the distributions for the market conditions</a></li><li class='has-sub'><a href='#Question-6'>Question 6</a><ul><li><a href='#Question-6.1'>Question 6.1</a></li><li><a href='#Question-6.2'>Question 6.2</a></li></ul></li><li><a href='#Step-3&4:-Generating-samples,-running-simulation-and-calculating-the-VaR'>Step 3&4: Generating samples, running simulation and calculating the VaR</a></li><li><a href='#Question-7'>Question 7</a></li><li><a href='#Step-5:-Evaluating-the-results-using-backtesting-method'>Step 5: Evaluating the results using backtesting method</a></li><li class='has-sub'><a href='#Question-8'>Question 8</a><ul><li><a href='#Question-8.1'>Question 8.1</a></li><li><a href='#Question-8.2'>Question 8.2</a></li><li><a href='#Question-8.3'>Question 8.3</a></li></ul></li><li><a href='#Question-9'>Question 9</a></li><li><a href='#Question-10'>Question 10</a></li></ul></li></ul></li><li><a href='#6.-Summary'>6. Summary</a></li><li><a href='#References'>References</a></li></ul>\n",
       "</li>\n",
       "<li class='has-sub'><a href=\"#\">QUESTIONS</a>\n",
       "<ul><li><a href='#Question-1'>Question 1</a></li><li class='has-sub'><a href='#Question-2'>Question 2</a><ul><li><a href='#Question-2.1'>Question 2.1</a></li><li><a href='#Question-2.2'>Question 2.2</a></li></ul></li><li class='has-sub'><a href='#Question-3'>Question 3</a><ul><li><a href='#Question-3.1'>Question 3.1</a></li><li><a href='#Question-3.2'>Question 3.2</a></li></ul></li><li class='has-sub'><a href='#Question-4'>Question 4</a><ul><li><a href='#Question-4.1'>Question 4.1</a></li><li><a href='#Question-4.2'>Question 4.2</a></li><li><a href='#Question-4.3'>Question 4.3</a></li><li><a href='#Question-4.4'>Question 4.4</a></li><li><a href='#Question-4.5'>Question 4.5</a></li><li><a href='#Question-4.6'>Question 4.6</a></li></ul></li><li class='has-sub'><a href='#Question-5'>Question 5</a><ul><li><a href='#Question-5.1'>Question 5.1</a></li><li><a href='#Question-5.2'>Question 5.2</a></li><li><a href='#Question-5.3'>Question 5.3</a></li></ul></li><li class='has-sub'><a href='#Question-6'>Question 6</a><ul><li><a href='#Question-6.1'>Question 6.1</a></li><li><a href='#Question-6.2'>Question 6.2</a></li></ul></li><li><a href='#Question-7'>Question 7</a></li><li class='has-sub'><a href='#Question-8'>Question 8</a><ul><li><a href='#Question-8.1'>Question 8.1</a></li><li><a href='#Question-8.2'>Question 8.2</a></li><li><a href='#Question-8.3'>Question 8.3</a></li></ul></li><li><a href='#Question-9'>Question 9</a></li><li><a href='#Question-10'>Question 10</a></li></ul>\n",
       "</li>\n",
       "</ul>\n",
       "</div>\n",
       "\n"
      ],
      "text/plain": [
       "<IPython.core.display.HTML object>"
      ]
     },
     "execution_count": 2,
     "metadata": {},
     "output_type": "execute_result"
    }
   ],
   "source": [
    "outputdir = \"/tmp/tools/\"\n",
    "!mkdir -p $outputdir\n",
    "!wget \"https://www.dropbox.com/s/4g0pigmro4vo1b4/menutemplate?dl=0\" -O /tmp/tools/menutemplate >> /tmp/toollog 2>&1 \n",
    "!wget \"https://www.dropbox.com/s/3flttpzhsja8td7/construct_menu.py?dl=0\" -O /tmp/tools/construct_menu.py >> /tmp/toollog 2>&1 \n",
    "!python /tmp/tools/construct_menu.py \"{THE_NOTEBOOK}.ipynb\" {outputdir}\n",
    "from IPython.core.display import HTML\n",
    "output_file_name = outputdir + THE_NOTEBOOK.replace(\" \", \"\").replace(\"[\", \"\").replace(\"]\", \"\") + \".ipynb.html\"\n",
    "with open(output_file_name) as fp:\n",
    "    html = fp.read()\n",
    "HTML(html)"
   ]
  },
  {
   "cell_type": "markdown",
   "metadata": {},
   "source": [
    "# Estimating Financial Risk through Monte Carlo Simulation\n",
    "Risk analysis is part of every decision we make when faced with uncertainty, ambiguity, and variability. Indeed, even though we have unprecedented access to information, we can't accurately predict the future. In finance, there is a fair amount of uncertainty and risk involved with estimating the future value of financial products, due to the wide variety of potential outcomes. Monte Carlo simulation (also known as the Monte Carlo Method) allows inspecting many possible outcomes of the decision making process, and can be used to assess the impact of risk: this, in turns, allows for better decision making under uncertainty.\n",
    "\n",
    "## Goals\n",
    "The main objectives we set for this Notebook are as follows:\n",
    "1. Develop fudamental knowledge about Risk analysis\n",
    "2. Understand Monte Carlo Simulation (MCS)\n",
    "3. Apply Monte Carlo Simulation for predicting risk\n",
    "\n",
    "\n",
    "## Steps\n",
    "1. First, in section 1, we introduce the basics of MCS\n",
    "2. In section 2, we work on a simple example to where we apply the MCS method\n",
    "3. In section 3, we briefly summarize the main characteristics of the Monte Carlo Simulation (MCS) technique\n",
    "4. In section 4, we overview the common distributions which are often used in MCS\n",
    "5. In section 5, we work on a real use case, that focuses on estimating financial risk. We will use techniques such as featurizing (that is, generating additional features to improve model accuracy), linear regression, kernel density estimation, sampling distributions and so on ...\n",
    "\n",
    "## Reference\n",
    "This Notebook is inspired by Chapter 9 of the book [Advanced Analytics with Spark](http://shop.oreilly.com/product/0636920035091.do) by Josh Wills, Sandy Ryza, Sean Owen, and Uri Laserson. It is strongly suggested to read this Chapter to get a general idea of the topic of this Notebook.\n",
    "\n",
    "# 1. Introduction\n",
    "\n",
    "## 1.1. Monte Carlo Simulation (MCS)\n",
    "Monte Carlo simulation is a computerized mathematical technique that can be applied such that it is possible to account for risk in quantitative analysis and decision making. This technique is used in many different fields, such as R&D, risk management, portfolio management, pricing derivatives, strategic planning, project planning, cost modeling and many more.\n",
    "\n",
    "In general, MCS is a technique that \"converts\" uncertainty on input variables of a model into **probability distributions**. By combining the distributions and randomly selecting values from them, it recalculates the simulated model many times, to determine the probability of the output.\n",
    "\n",
    "Historically, this technique was first used by scientists working on the atomic bomb: it was named after Monte Carlo, the Monaco resort town renowned for its casinos.  Since its introduction in World War II, Monte Carlo simulation has been used to model a variety of physical and conceptual systems.\n",
    "\n",
    "## 1.2. How does it work?\n",
    "Monte Carlo simulation performs risk analysis by building models of possible results by *substituting a range of possible input values, that constitute uncertainty, into a statistical distribution*. It then computes possible outcomes repeatedly, each time using a different set of random values from the probability functions that \"model\" the input. Depending upon the number of random input variables and their distribution, a Monte Carlo simulation could involve thousands or tens of thousands of \"rounds\" before it is complete. When complete, *Monte Carlo simulation produces distributions of possible outcome values*.\n",
    "\n",
    "By using probability distributions instead of actual input samples, it is possible to model more accurately uncertainty: different choices of distributions will yield different outputs."
   ]
  },
  {
   "cell_type": "markdown",
   "metadata": {},
   "source": [
    "# 2. Illustrative example\n",
    "\n",
    "Imagine you are the marketing manager for a firm that is planning to introduce a new product. You need to estimate the first year net profit from this product, which might depend on:\n",
    "\n",
    "- Sales volume in units\n",
    "- Price per unit (also called \"Selling price\")\n",
    "- Unit cost\n",
    "- Fixed costs\n",
    "\n",
    "Net profit will be calculated as $Net Profit = Sales Volume* (Selling Price - Unit cost) - Fixed costs$.  Fixed costs (accounting for various overheads, advertising budget, etc.) are known to be \\$ 120,000, which we assume to be deterministic. All other factors, instead, involve some uncertainty: *sales volume* (in units) can cover quite a large range, the *selling price* per unit will depend on competitor actions, which are hard to predict, and *unit costs* will also vary depending on vendor prices and production experience, for example.\n",
    "\n",
    "Now, to build a risk analysis model, we must first identify the uncertain variables -- which are essentially random variables.  While there's some uncertainty in almost all variables in a business model, we want to focus on variables where the range of values is significant."
   ]
  },
  {
   "cell_type": "markdown",
   "metadata": {},
   "source": [
    "## 2.1. Unit sales and unit price\n",
    "\n",
    "Based on an hypothetical market research you have done, you have beliefs that there are equal chances for the market to be `slow`, `normal`, or `hot`:\n",
    "\n",
    "- In a \"slow\" market, you expect to sell 50,000 units at an average selling price of \\$11.00 per unit\n",
    "- In a \"normal\" market, you expect to sell 75,000 units, but you'll likely realize a lower average selling price of \\$10.00 per unit\n",
    "- In a \"hot\" market, you expect to sell 100,000 units, but this will bring in competitors, who will drive down the average selling price to \\$8.00 per unit"
   ]
  },
  {
   "cell_type": "markdown",
   "metadata": {},
   "source": [
    "![](https://farm2.staticflickr.com/1604/24934700445_833f0a5649_t.jpg)"
   ]
  },
  {
   "cell_type": "markdown",
   "metadata": {},
   "source": [
    "<div class='anchor' ></div>\n",
    "### Question 1\n",
    "\n",
    "Calculate the average units and the unit price that you expect to sell, which depend on the market state. Use the assumptions above to compute the expected quantity of products and their expected unit price. \n"
   ]
  },
  {
   "cell_type": "code",
   "execution_count": 3,
   "metadata": {
    "collapsed": false
   },
   "outputs": [
    {
     "name": "stdout",
     "output_type": "stream",
     "text": [
      "average unit: 75000.0\n",
      "average_price: 9.666666666666666\n"
     ]
    }
   ],
   "source": [
    "average_unit = (50000 + 75000 + 100000)/3\n",
    "average_price = (11 + 10 + 8)/3\n",
    "print(\"average unit:\", average_unit)\n",
    "print(\"average_price:\", average_price)"
   ]
  },
  {
   "cell_type": "markdown",
   "metadata": {},
   "source": [
    "<div class=\"comment\">\n",
    "Following the hypothesis, there are equal chances for the market to be slow, normal or hot; then we have that above calculation.\n",
    "\n",
    "</div>"
   ]
  },
  {
   "cell_type": "markdown",
   "metadata": {},
   "source": [
    "## 2.2. Unit Cost\n",
    "\n",
    "Another uncertain variable is Unit Cost. In our illustrative example, we assume that your firm's production manager advises you that unit costs may be anywhere from \\$5.50 to \\$7.50, with a most likely expected cost of \\$6.50. In this case, the most likely cost can be considered as the average cost.\n",
    "\n",
    "## 2.3. A Flawed Model: using averages to represent our random variables\n",
    "Our next step is to identify uncertain functions -- also called functions of a random variable.  Recall that Net Profit is calculated as $Net Profit = Sales Volume * (Selling Price - Unit cost) - Fixed costs$.  However, Sales Volume, Selling Price and Unit Cost are all uncertain variables, so Net Profit is an uncertain function.\n",
    "\n",
    "The most simple model to predict the Net Profit is using average of sales volume, average of selling price and average of unit cost for calculating. So, if only consider averages, we can say that the $Net Profit = 75,000*(9.66666666 - 6.5) - 120,000 \\sim 117,500$.\n",
    "\n",
    "However, as [Dr. Sam Savage](http://web.stanford.edu/~savage/faculty/savage/) warns, \"Plans based on average assumptions will be wrong on average.\" The calculated result is far from the actual value: indeed, the **true average Net Profit** is roughly  \\$93,000, as we will see later in the example."
   ]
  },
  {
   "cell_type": "markdown",
   "metadata": {},
   "source": [
    "![](https://farm2.staticflickr.com/1604/24934700445_833f0a5649_t.jpg)"
   ]
  },
  {
   "cell_type": "markdown",
   "metadata": {},
   "source": [
    "<div class='anchor' ></div>\n",
    "### Question 2\n",
    "#### Question 2.1\n",
    "Write a function named `calNetProfit` to calculate the Net Profit using the average of sales volume, the average of selling price and the average of unit cost."
   ]
  },
  {
   "cell_type": "code",
   "execution_count": 4,
   "metadata": {
    "collapsed": false
   },
   "outputs": [
    {
     "name": "stdout",
     "output_type": "stream",
     "text": [
      "Net profit: 117499.99999999994\n"
     ]
    }
   ],
   "source": [
    "def calNetProfit(average_unit, average_price, average_unitcost, fixed_cost):\n",
    "    return average_unit*(average_price - average_unitcost) - fixed_cost\n",
    "\n",
    "average_unitcost = 6.5\n",
    "fixed_cost = 120000\n",
    "NetProfit = calNetProfit(average_unit,average_price,average_unitcost,fixed_cost)\n",
    "print(\"Net profit:\", NetProfit)"
   ]
  },
  {
   "cell_type": "markdown",
   "metadata": {},
   "source": [
    "<div class='anchor' ></div>\n",
    "#### Question 2.2\n",
    "Verify the warning message of Dr. Sam Savage by calculating the error of our estimated Net Profit using averages only. Recall that the true value is roughly \\$93,000, so we are interested in:\n",
    "\n",
    "$$ error = \\frac{your\\_value - true\\_value}{true\\_value}$$\n",
    "\n",
    "Note also we are interested in displaying the error as a percentage.\n",
    "\n",
    "Looking at the error we make, do you think that we can use the current model that only relies on averages?"
   ]
  },
  {
   "cell_type": "code",
   "execution_count": 5,
   "metadata": {
    "collapsed": false
   },
   "outputs": [
    {
     "name": "stdout",
     "output_type": "stream",
     "text": [
      "Error in percentage: 26.344086021505316\n"
     ]
    }
   ],
   "source": [
    "trueNetProfit = 93000\n",
    "error = abs(NetProfit - trueNetProfit) / (trueNetProfit)\n",
    "print(\"Error in percentage:\", error * 100)"
   ]
  },
  {
   "cell_type": "markdown",
   "metadata": {},
   "source": [
    "<div class=\"comment\">\n",
    "With the error > 25%, we can see that it is not reliable to believe in the average net profit. It should only be served as a guideline and we should be prepared for a large error margin from the true profit.\n",
    "</div>"
   ]
  },
  {
   "cell_type": "markdown",
   "metadata": {},
   "source": [
    "## 2.4. Using the Monte Carlo Simulation method to improve our model\n",
    "As discussed before, the selling price and selling volume both depend on the state of the market scenario (slow/normal/hot). So, the net profit is the result of two random variables: `market scenario` (which in turn determines `sales volumes` and `selling price`) and `unit cost`.\n",
    "\n",
    "Now, let's assume (this is an *a-priori* assumption we make) that `market scenario` follows a discrete, uniform distribution and that `unit cost` also follows a uniform distribution. Then, we can compute directly the values for selling price and selling volumes based on the outcome of the random variable `market scenario`, as shown in Section 2.1.\n",
    "\n",
    "From these a-priori distributions, in each run (or trial) of our Monte Carlo simulation, we can generate the sample value for each random variable and use it to calculate the Net Profit. The more simulation runs, the more accurate our results will be. For example, if we run the silmulation 100,000 times, the average net profit will amount to roughly \\$92,600. Every time we run the simulation, a different prediction will be output: the average of such predictions will consistently be less than \\$117,500, which we predicted using averages only.\n",
    "\n",
    "Note also that in this simple example, we generate values for the `market scenario` and `unit cost` independently: we consider them to be **independent random variables**. This means that the eventual (and realistic!) correlation between the `market scenario` and `unit cost` variables is ignored. Later, we will learn how to be more precise and account for dependency between random variables.\n"
   ]
  },
  {
   "cell_type": "markdown",
   "metadata": {},
   "source": [
    "![](https://farm2.staticflickr.com/1604/24934700445_833f0a5649_t.jpg)"
   ]
  },
  {
   "cell_type": "markdown",
   "metadata": {},
   "source": [
    "<div class='anchor' ></div>\n",
    "### Question 3\n",
    "#### Question 3.1\n",
    "Write a function named `get_sales_volume_price` that returns the sales volume and price based on the market scenario. In particular, the scenario can get one of three values:\n",
    "\n",
    "* 0: Slow market\n",
    "* 1: Normal market\n",
    "* 2: Hot market\n",
    "\n",
    "The return value is a tuple in the form: `(sales_volume, price)`"
   ]
  },
  {
   "cell_type": "code",
   "execution_count": 6,
   "metadata": {
    "collapsed": true
   },
   "outputs": [],
   "source": [
    "# Get sales volume and  price based on market scenario\n",
    "# the function returns a tuple of (sales_volume, price)\n",
    "def get_sales_volume_price(scenario):\n",
    "    # Slow market\n",
    "    if scenario == 0:\n",
    "        return (50000,11)\n",
    "    # Normal market\n",
    "    if scenario == 1:\n",
    "        return (75000,10)\n",
    "    # Hot market\n",
    "    if scenario == 2:\n",
    "        return (100000,8)"
   ]
  },
  {
   "cell_type": "markdown",
   "metadata": {},
   "source": [
    "<div class='anchor' ></div>\n",
    "#### Question 3.2\n",
    "Run 100,000 Monte Carlo simulations and calculate the average net profit they produce. Then, compare the result to the \"average model\" we used in the previous questions (the one we called \"flawed\" model). Put your comments about the discrepancies between a simplistic model, and the more accurate MCS approach.\n",
    "\n",
    "Note that in each iteration, the `unit_cost` and `market_scenario` are generated according to their distributions. Also, recall what we have seen in Section 2.2: your firm account manager helped you with some research, to determine the variability of your random variables.\n",
    "\n",
    "\n",
    "HINT: \n",
    "Funtion `uniform(a,b)` in module `random` generates a number $a<=c<=b$, which is drawn from a uniform distribution.\n",
    "Function `randint(a,b)` helps you generating an integer number $a<=c<=b$"
   ]
  },
  {
   "cell_type": "code",
   "execution_count": 7,
   "metadata": {
    "collapsed": false
   },
   "outputs": [
    {
     "name": "stdout",
     "output_type": "stream",
     "text": [
      "average net profit: 92250.93910564964\n",
      "Error in percentage: 0.8054418218821089\n"
     ]
    }
   ],
   "source": [
    "import random\n",
    "\n",
    "total = 0.0\n",
    "num_simulation = 100000\n",
    "for i in range(0,num_simulation):\n",
    "    unit_cost = random.uniform(5.5,7.5)\n",
    "    market_scenario = random.randint(0,2)\n",
    "    sales_volume, price = get_sales_volume_price(market_scenario)\n",
    "    netProfit = calNetProfit(sales_volume, price, unit_cost, fixed_cost)\n",
    "    total = total + netProfit\n",
    "\n",
    "print(\"average net profit:\", total/num_simulation)\n",
    "\n",
    "error = abs(total/num_simulation - trueNetProfit) / (trueNetProfit)\n",
    "print(\"Error in percentage:\", error * 100)"
   ]
  },
  {
   "cell_type": "markdown",
   "metadata": {},
   "source": [
    "<div class=\"comment\">\n",
    "As we can see, the error is only 0.3% which means that the Monte Carlo simulation (MCS) technique gives much more accuracy in calculating the average net profit than the approach used in question 2.1. The reason is the MCS provides the following advantages:\n",
    "<br>- Probabilistic result: The result shows not only what could happen, but also how likely each outcome is.\n",
    "<br>- Scenario Analysis: In simple approach in question 2.1, it is very difficult to model different combinations of values for different inputs to see the effects of the different scenarios. In contrast, MCS can give exactly which inputs had which values together when certain outcomes occurred. This is invaluable for pursuing further analysis.\n",
    "</div>"
   ]
  },
  {
   "cell_type": "markdown",
   "metadata": {},
   "source": [
    "\n",
    "# 3. A brief summary of the Monte Carlo Simulation (MCS) technique\n",
    "\n",
    "- A MCS allows several inputs to be used at the same time to compute the probability distribution of one or more outputs\n",
    "- Different types of probability distributions can be assigned to the inputs of the model, depending on any *a-priori* information that is available. When the distribution is completely unknown, a common technique is to use a distribution computed by finding the best fit to the data you have\n",
    "- The MCS method is also called a **stochastic method** because it uses random variables. Note also that the general assumption is for input random variables to be independent from eachother. When this is not the case, there are techniques to account for correlation between random variables.\n",
    "- A MCS generates the output as a range instead of a fixed value and shows how likely the output value is to occur in that range. In other words, the model outputs a probability distribution."
   ]
  },
  {
   "cell_type": "markdown",
   "metadata": {
    "collapsed": true
   },
   "source": [
    "# 4. Common distributions used in MCS\n",
    "In what follows, we summarize the most common probability distributions that are used as *a-priori* distributions for input random variables:\n",
    "\n",
    "- *Normal/Gaussian Distribution*: this is a continuous distribution applied in situations where the mean and the standard deviation of a given input variable are given, and the mean represents the most probable value of the variable. In other words, values \"near\" the mean are most likely to occur.  This is symmetric distribution, and it is not bounded in its co-domain. It is very often used to  describe natural phenomena, such as people’s heights, inflation rates, energy prices, and so on and so forth. An illustration of a normal distribution is given below:\n",
    "![normal_distribution](https://upload.wikimedia.org/wikipedia/commons/thumb/7/74/Normal_Distribution_PDF.svg/320px-Normal_Distribution_PDF.svg.png)\n",
    "\n",
    "- *Lognormal Distribution* : this is a distribution which is appropriate for variables taking values in the range $[0, \\infty]$. Values are positively skewed, not symmetric like a normal distribution.  Examples of variables described by a lognormal distributions include, for example, real estate property values, stock prices, and oil reserves. An illustration of a lognormal distribution is given below:\n",
    "![log_normal_distribution](https://upload.wikimedia.org/wikipedia/commons/thumb/a/ae/PDF-log_normal_distributions.svg/320px-PDF-log_normal_distributions.svg.png) \n",
    "\n",
    "- *Triangular Distribution* : this is a continuous distribution with fixed minimum and maximum values. It is bounded by the minimum and maximum values and can be either symmetrical (the most probable value = mean = median) or asymmetrical. Values around the most likely value (e.g. the mean) are more likely to occur.  Variables that could be described by a triangular distribution include, for example, past sales history per unit of time and inventory levels. An illustration of a triangular distribution is given below:\n",
    "![](https://upload.wikimedia.org/wikipedia/commons/thumb/4/45/Triangular_distribution_PMF.png/320px-Triangular_distribution_PMF.png)\n",
    "\n",
    "- *Uniform Distribution* : this is a continuous distribution bounded by known minimum and maximum values. In contrast to the triangular distribution, the likelihood of occurrence of the values between the minimum and maximum is the same. In other words, all values have an equal chance of occurring, and the distribution is simply characterized by the minimum and maximum values. Examples of variables that can be described by a uniform distribution include manufacturing costs or future sales revenues for a new product. An illustration of the uniform distribution is given below:\n",
    "![](https://upload.wikimedia.org/wikipedia/commons/thumb/9/96/Uniform_Distribution_PDF_SVG.svg/320px-Uniform_Distribution_PDF_SVG.svg.png)\n",
    "\n",
    "- *Exponential Distribution* : this is a continuous distribution used to model the time that pass between independent occurrences, provided that the rate of occurrences is known. An example of the exponential distribution is given below:\n",
    "![](https://upload.wikimedia.org/wikipedia/commons/thumb/e/ec/Exponential_pdf.svg/320px-Exponential_pdf.svg.png)\n",
    "\n",
    "- *Discrete Distribution* : for this kind of distribution, the \"user\" defines specific values that may occur and the likelihood of each of them.  An example might be the results of a lawsuit: 20% chance of positive verdict, 30% change of negative verdict, 40% chance of settlement, and 10% chance of mistrial.\n"
   ]
  },
  {
   "cell_type": "markdown",
   "metadata": {},
   "source": [
    "# 5. A real use case: estimating the financial risk of a portfolio of stocks\n",
    "We hope that by now you have a good understanding about Monte Carlo simulation. Next, we apply this method to a real use case: *financial risk estimation*.\n",
    "\n",
    "Imagine that you are an investor on the stock market. You plan to buy some stocks and you want to estimate the maximum loss you could incur after two weeks of investing. This is the quantity that the financial statistic \"Value at Risk\" (VaR) seeks to measure. [VaR](https://en.wikipedia.org/wiki/Value_at_risk) is defined as a measure of investment risk that can be used as a reasonable estimate of the maximum probable loss for a value of an investment portfolio, over a particular time period. A VaR statistic depends on three parameters: a portfolio, a time period, and a confidence level. A VaR of 1 million dollars with a 95% confidence level over two weeks, indicates the belief that the portfolio stands only a 5% chance of losing more than 1 million dollars over two weeks. VaR has seen widespread use across financial services organizations. This statistic plays a vital role in determining how much cash investors must hold to meet the credit ratings that they seek. In addition, it is also used to understand the risk characteristics of large portfolios: it is a good idea to compute the VaR before executing trades, such that it can help take informed decisions about investments. \n",
    "\n",
    "Our goal is calculating VaR of two weeks interval with 95% confidence level and the associated [VaR confidence interval](http://www.investopedia.com/ask/answers/041615/whats-difference-between-confidence-level-and-confidence-interval-value-risk-var.asp).\n",
    "\n",
    "\n",
    "## 5.1. Terminology\n",
    "In this use case, we will use some terms that might require a proper definition, given the domain. This is what we call the *Domain Knowledge*.\n",
    "\n",
    "- **Instrument**: A tradable asset, such as a bond, loan, option, or stock investment. At any particular time, an instrument is considered to have a value, which is the price for which it can be sold. In the use case of this notebook, instruments are stock investments.\n",
    "- **Portfolio**: A collection of instruments owned by a financial institution. \n",
    "- **Return**: The change in an instrument or portfolio’s value over a time period. \n",
    "- **Loss**: A negative return. \n",
    "- **Index**: An imaginary portfolio of instruments. For example, the NASDAQ Composite index includes about 3,000 stocks and similar instruments for major US and international companies. \n",
    "- **Market factor**: A value that can be used as an indicator of macro aspects of the financial climate at a particular time. For example, the value of an index, the Gross Domestic Product of the United States, or the exchange rate between the dollar and the euro. We will often refer to market factors as just factors.\n",
    "\n",
    "## 5.2. The context of our use case\n",
    "We have a list of instruments that we plan to invest in. The historial data of each instrument has been collected for you. For simplicity, assume that the returns of instruments at a given time, depend on 4 market factors only: \n",
    "\n",
    "- GSPC value\n",
    "- IXIC value \n",
    "- The return of crude oil\n",
    "- The return of treasury bonds\n",
    "\n",
    "Our goal is building a model to predict the loss after two weeks time interval with confidence level set to 95%.\n",
    "\n",
    "As a side note, it is important to realize that the approach presented in this Notebook is a simplified version of what would happen in a real Financial firm. For example, the returns of instruments at a given time often depend on more than 4 market factors only! Moreovoer, the choice of what constitute an appropriate market factor is an art!\n",
    "\n"
   ]
  },
  {
   "cell_type": "markdown",
   "metadata": {},
   "source": [
    "## 5.3. The Data\n",
    "The stock data can be downloaded (or scraped) from Yahoo! by making a series of REST calls. The data includes multiple files. Each file contains the historical information of each instrument that we want to invest in. The data is in the following format (with some samples):\n",
    "```\n",
    "Date, Open, High, Low, Close, Volume, Adj Close\n",
    "2016-01-22,66.239998,68.07,65.449997,67.860001,137400,67.860001\n",
    "2016-01-21,65.410004,66.18,64.459999,65.050003,148000,65.050003\n",
    "2016-01-20,64.279999,66.32,62.77,65.389999,141300,65.389999\n",
    "2016-01-19,67.720001,67.989998,64.720001,65.379997,178400,65.379997\n",
    "```\n",
    "\n",
    "The data of GSPC and IXIC values (our two first market factors) are also available on Yahoo! and use the very same format. \n",
    "\n",
    "The crude oil and treasure bonds data is collected from investing.com, and has a different format, as shown below (with some samples):\n",
    "```\n",
    "Date    Price   Open    High    Low     Vol.    Change %\n",
    "Jan 25, 2016    32.17   32.36   32.44   32.10   -       -0.59%\n",
    "Jan 24, 2016    32.37   32.10   32.62   31.99   -       0.54%\n",
    "Jan 22, 2016    32.19   29.84   32.35   29.53   -       9.01%\n",
    "Jan 21, 2016    29.53   28.35   30.25   27.87   694.04K 11.22%\n",
    "Jan 20, 2016    26.55   28.33   28.58   26.19   32.11K  -6.71%\n",
    "Jan 19, 2016    28.46   29.20   30.21   28.21   188.03K -5.21%\n",
    "```\n",
    "\n",
    "In our use case, the factors' data will be used jointly to build a statiscal model: as a consequence, we first need to preprocess the data to proceed.\n",
    "\n",
    "## 5.4. Data preprocessing\n",
    "In this Notebook, all data files have been downloaded for you, such that you can focus on pre-processing. Next, we will:\n",
    "\n",
    "  - Read the factor data files which are in two different formats, process and merge them together\n",
    "  - Read the stock data and pre-process it\n",
    "  - Trim all data into a specific time region\n",
    "  - Fill in the missing values\n",
    "  - Generate the data of returns in each two weeks time interval window\n",
    "  \n",
    "### Factor data pre-processing\n",
    "\n",
    "We need two functions to read and parse data from Yahoo! and Investing.com respectively. We are interested only in information about the time and the corresponding returns of a factor or an instrument: as a consequence, we will project away many columns of our RAW data, and keep only the information we are interested in.\n",
    "\n",
    "The 3000-instrument and the 4-factor history are small enough to be read and processed locally: we do not need to use the power of parallel computing to proceed. Note that this is true also for larger cases with hundreds of thousands of instruments and thousands of factors. The need for a distributed system like Spark comes in when actually **running** the Monte Carlo simulations, which can require massive amounts of computation on each instrument. "
   ]
  },
  {
   "cell_type": "markdown",
   "metadata": {},
   "source": [
    "![](https://farm2.staticflickr.com/1604/24934700445_833f0a5649_t.jpg)"
   ]
  },
  {
   "cell_type": "markdown",
   "metadata": {},
   "source": [
    "<div class='anchor' ></div>\n",
    "\n",
    "### Question 4\n",
    "#### Question 4.1\n",
    "Write a function named `readInvestingDotComHistory` to parse data from investing.com based on the format specified above (see Section 5.3). Recall that we use two factors here: one that is related to the price of crude oil, one that is related to some specific US bonds. \n",
    "\n",
    "Print the first 5 entries of the first factor (crude oil price) in the parsed data.\n",
    "\n",
    "Note that we are only interested in the date and price of stocks.\n",
    "\n",
    "HINT: You can parse a string to `datetime` object by using the function `strptime(<string>, <dtime_format>)`. In this case, the datetime format is `\"%b %d, %Y\"`. For more information, please follow this [link](https://docs.python.org/2/library/datetime.html#strftime-and-strptime-behavior)."
   ]
  },
  {
   "cell_type": "markdown",
   "metadata": {},
   "source": [
    "In the next cell, we simply copy data from our HDFS cluster (that contains everything we need for this Notebook) to the instance (a Docker container) running your Notebook. This means that you will have \"local\" data that you can process without using Spark. Note the folder location: find and verify that you have correctly downloaded the files!"
   ]
  },
  {
   "cell_type": "code",
   "execution_count": 8,
   "metadata": {
    "collapsed": false
   },
   "outputs": [
    {
     "name": "stdout",
     "output_type": "stream",
     "text": [
      "Downloading prepared data from HDFS. Please wait...\n",
      "Done!\n"
     ]
    }
   ],
   "source": [
    "! [ -d monte-carlo-risk ] || (echo \"Downloading prepared data from HDFS. Please wait...\" ; hdfs dfs -copyToLocal /datasets/monte-carlo-risk . ; echo \"Done!\";)"
   ]
  },
  {
   "cell_type": "code",
   "execution_count": 41,
   "metadata": {
    "collapsed": false
   },
   "outputs": [
    {
     "name": "stdout",
     "output_type": "stream",
     "text": [
      "[(datetime.datetime(2006, 1, 27, 0, 0), 67.76), (datetime.datetime(2006, 1, 30, 0, 0), 68.35), (datetime.datetime(2006, 1, 31, 0, 0), 67.92), (datetime.datetime(2006, 2, 1, 0, 0), 66.56)]\n"
     ]
    }
   ],
   "source": [
    "from datetime import datetime\n",
    "from datetime import timedelta\n",
    "from itertools import islice\n",
    "%matplotlib inline\n",
    "import numpy as np\n",
    "import statsmodels.api as sm\n",
    "\n",
    "base_folder = \"monte-carlo-risk/\"\n",
    "\n",
    "factors_folder= base_folder + \"factors/\"\n",
    "\n",
    "# read data from local disk\n",
    "def readInvestingDotComHistory(fname):\n",
    "    def process_line(line):\n",
    "        cols = line.split('\\t')\n",
    "        date = datetime.strptime(cols[0], \"%b %d, %Y\")\n",
    "        value = float(cols[1])\n",
    "        return (date, value)\n",
    "    \n",
    "    with open(fname) as f:\n",
    "        content_w_header = f.readlines()\n",
    "        # remove the first line \n",
    "        # and reverse lines to sort the data by date, in ascending order\n",
    "        content = list(reversed(content_w_header[1:]))\n",
    "        return list(map(process_line , content))\n",
    "\n",
    "factor1_files = ['crudeoil.tsv', 'us30yeartreasurybonds.tsv']\n",
    "factor1_files = map(lambda fn: factors_folder + fn, factor1_files)\n",
    "factors1 = [readInvestingDotComHistory(f) for f in factor1_files]\n",
    "\n",
    "print(factors1[0][1:5])"
   ]
  },
  {
   "cell_type": "markdown",
   "metadata": {},
   "source": [
    "Now, the data structure `factors1` is a list, containing data that pertains to two (out of a total of four) factors that influence the market, as obtained by investing.com. Each element in the list is a tuple, containing some sort of timestamp, and the value of one of the two factors discussed above. From now on, we call these elements \"**records**\" or \"**entries**\". Visually, `factors1` looks like this:\n",
    "\n",
    "| 0 (crude oil) | 1 (US bonds)|\n",
    "| --- | --- |\n",
    "| time_stamp, value | time_stamp, value |\n",
    "| ... | ... |\n",
    "| time_stamp, value | time_stamp, value |\n",
    "| ... | ... |\n"
   ]
  },
  {
   "cell_type": "markdown",
   "metadata": {},
   "source": [
    "<div class='anchor' ></div>\n",
    "#### Question 4.2\n",
    "Write a function named `readYahooHistory` to parse data from yahoo.com based on its format, as described in Section 5.3. \n",
    "\n",
    "Print the first 5 entries of the first factor (namely GSPC). Comment the time range of the second batch of data we use in our Notebook.\n",
    "\n",
    "Note that we are only interested in the date and price of stocks.\n",
    "\n",
    "NOTE: The datetime format now is in a different format than the previous one.\n",
    "\n",
    "HINT: Use a terminal (or put the bash commands inline in your Notebook) to list filenames in your local working directory to find and have a look at your local files."
   ]
  },
  {
   "cell_type": "code",
   "execution_count": 44,
   "metadata": {
    "collapsed": false
   },
   "outputs": [
    {
     "name": "stdout",
     "output_type": "stream",
     "text": [
      "[(datetime.datetime(1950, 1, 3, 0, 0), 16.66), (datetime.datetime(1950, 1, 4, 0, 0), 16.85), (datetime.datetime(1950, 1, 5, 0, 0), 16.93), (datetime.datetime(1950, 1, 6, 0, 0), 16.98), (datetime.datetime(1950, 1, 9, 0, 0), 17.08)]\n"
     ]
    }
   ],
   "source": [
    "# read data from local disk\n",
    "def readYahooHistory(fname):\n",
    "    def process_line(line):\n",
    "        cols = line.split(',')\n",
    "        date = datetime.strptime(cols[0], \"%Y-%m-%d\")\n",
    "        value = float(cols[4])\n",
    "        return (date, value)\n",
    "    \n",
    "    with open(fname) as f:\n",
    "        content_w_header = f.readlines()\n",
    "        content = list(reversed(content_w_header[1:]))\n",
    "        return list(map(process_line , content))\n",
    "    \n",
    "\n",
    "factor2_files = ['GSPC.csv', 'IXIC.csv']\n",
    "factor2_files = map(lambda fn: factors_folder + fn, factor2_files)\n",
    "\n",
    "factors2 = [readYahooHistory(f) for f in factor2_files]\n",
    "\n",
    "print(factors2[0][:5])"
   ]
  },
  {
   "cell_type": "markdown",
   "metadata": {},
   "source": [
    "<div class=\"comment\">\n",
    "We could see the several diffences in format of files in question 4.1 and question 4.2, for example, file 'crudeoil.tsv' and 'GSPC.csv'. An example row of each file is:\n",
    "<p> - File 'GSPC.csv': \n",
    "2016-01-22,4557.390137,4591.180176,4540.27002,4591.180176,2153340000,4591.180176 <br>\n",
    "- File 'crudeoil.tsv': \n",
    "Jan 25, 2016\t32.17\t32.36\t32.44\t32.10\t-\t-0.59%\n",
    "</p>\n",
    "As we can see, there are diffence in the organization of each file, the format of datetime as well as the value about price of stocks which will be extracted. \n",
    "<br> - In the file 'crudeoil.tsv', each column is divided by '\\t', the datetime format follow \"%b %d, %Y\" and the price of stock is in the second column.\n",
    "<br> - In the file 'GSPC.csv', each column is divided by ',', the datetime format follow \"%Y-%m-%d\" and the price of stock is in the fifth column.\n",
    "</div>"
   ]
  },
  {
   "cell_type": "markdown",
   "metadata": {},
   "source": [
    "Now, the data structure `factors2` is again list, containing data that pertains to the next two (out of a total of four) factors that influence the market, as obtained by Yahoo!. Each element in the list is a tuple, containing some sort of timestamp, and the value of one of the two factors discussed above. Visually, `factors2` looks like this:\n",
    "\n",
    "| 0 (GSPC) | 1 (IXIC)|\n",
    "| --- | --- |\n",
    "| time_stamp, value | time_stamp, value |\n",
    "| ... | ... |\n",
    "| time_stamp, value | time_stamp, value |\n",
    "| ... | ... |\n"
   ]
  },
  {
   "cell_type": "markdown",
   "metadata": {},
   "source": [
    "### Stock data pre-processing\n",
    "\n",
    "Next, we prepare the data for the instruments we consider in this Notebook (i.e., the stocks we want to invest in). "
   ]
  },
  {
   "cell_type": "markdown",
   "metadata": {},
   "source": [
    "<div class='anchor' ></div>\n",
    "\n",
    "#### Question 4.3\n",
    "In this Notebook, we assume that we want to invest on the first 35 stocks out of the total 3000 stocks present in our datasets.\n",
    "\n",
    "Load and prepare all the data for the considered instruments (the first 35 stocks) which have historical information for more than 5 years. This means that all instruments with less than 5 years of history should be removed.\n",
    "\n",
    "**[HINT]**: we suggest to open a terminal window (not on your local machine, but the Notebook terminal that you can find on the Jupyter dashboard) and visually check the contents of the directories holding our dataset, if you didn't do this before! Have a look at how stock data is organized!"
   ]
  },
  {
   "cell_type": "code",
   "execution_count": 48,
   "metadata": {
    "collapsed": false
   },
   "outputs": [
    {
     "name": "stdout",
     "output_type": "stream",
     "text": [
      "[(datetime.datetime(2006, 5, 10, 0, 0), 9.93985), (datetime.datetime(2006, 5, 11, 0, 0), 10.09125), (datetime.datetime(2006, 5, 12, 0, 0), 10.09375), (datetime.datetime(2006, 5, 15, 0, 0), 10.1553), (datetime.datetime(2006, 5, 16, 0, 0), 10.0642)]\n",
      "The number of stocks after removing candidates which have historical information for less than 5 years: 27\n"
     ]
    }
   ],
   "source": [
    "from os import listdir\n",
    "from os.path import isfile, join\n",
    "\n",
    "stock_folder = base_folder + 'stocks'\n",
    "\n",
    "def process_stock_file(fname):\n",
    "    try:\n",
    "        return readYahooHistory(fname)\n",
    "    except Exception as e:\n",
    "        raise e\n",
    "        return None\n",
    "\n",
    "\n",
    "\n",
    "# select path of all stock data files in \"stock_folder\"\n",
    "files = [join(stock_folder, f) for f in listdir(stock_folder) if isfile(join(stock_folder, f))]\n",
    "\n",
    "# assume that we invest only the first 35 stocks (for faster computation)\n",
    "files = files[:35]\n",
    "\n",
    "# read each line in each file, convert it into the format: (date, value)\n",
    "rawStocks = [process_stock_file(f) for f in files]\n",
    "\n",
    "# select only instruments which have more than 5 years of history\n",
    "# Note: the number of business days in a year is 260\n",
    "number_of_years = 5\n",
    "#print(rawStocks[0][-1][0])\n",
    "rawStocks = list(filter(lambda instrument: (instrument[-1][0] - instrument[0][0]).days > number_of_years*260  , rawStocks))\n",
    "\n",
    "# For testing, print the first 5 entry of the first stock\n",
    "print(rawStocks[0][:5])\n",
    "\n",
    "print(\"The number of stocks after removing candidates which have historical information for less than 5 years:\",len(rawStocks))"
   ]
  },
  {
   "cell_type": "markdown",
   "metadata": {},
   "source": [
    "### Time alignment for our data\n",
    "Different types of instruments may trade on different days, or the data may have missing values for other reasons, so it is important to make sure that our different histories align. First, we need to trim all of our time series to the same region in time. Then, we need to fill in missing values. To deal with time series that have missing values at the start and end dates in the time region, we simply fill in those dates with nearby values in the time region."
   ]
  },
  {
   "cell_type": "markdown",
   "metadata": {},
   "source": [
    "<div class='anchor' ></div>\n",
    "\n",
    "#### Question 4.4\n",
    "Assume that we only focus on the data from 23/01/2009 to 23/01/2014. Write a function named `trimToRegion` to select only the records in that time interval. \n",
    "\n",
    "Requirements: after processing, each instrument $i$ has a list of records: $[r_0, r_2,...,r_{m_i}]$ such that $r_0$ and $r_{m_i}$ are assigned, respectively, the first and the last values corresponding to the extremes of the given time interval. For example: $r_0$ should contain the value at date 23/01/2009."
   ]
  },
  {
   "cell_type": "code",
   "execution_count": 12,
   "metadata": {
    "collapsed": false
   },
   "outputs": [
    {
     "name": "stdout",
     "output_type": "stream",
     "text": [
      "[(datetime.datetime(2009, 1, 23, 0, 0), 0.61547), (datetime.datetime(2009, 1, 26, 0, 0), 0.61547), (datetime.datetime(2009, 1, 27, 0, 0), 0.64132), (datetime.datetime(2009, 1, 28, 0, 0), 0.66496), (datetime.datetime(2009, 2, 9, 0, 0), 0.66471)]\n",
      "[(datetime.datetime(2014, 1, 17, 0, 0), 30.05), (datetime.datetime(2014, 1, 20, 0, 0), 30.05), (datetime.datetime(2014, 1, 21, 0, 0), 29.06), (datetime.datetime(2014, 1, 22, 0, 0), 29.06), (datetime.datetime(2014, 1, 23, 0, 0), 28.45)]\n"
     ]
    }
   ],
   "source": [
    "# note that the data of crude oild and treasury is only available starting from 26/01/2006 \n",
    "start = datetime(year=2009, month=1, day=23)\n",
    "end = datetime(year=2014, month=1, day=23)\n",
    "\n",
    "def trimToRegion(history, start, end):\n",
    "    def isInTimeRegion(entry):\n",
    "        (date, value) = entry\n",
    "        return date >= start and date <= end\n",
    "\n",
    "    # only select entries which are in the time region\n",
    "    trimmed = list(filter( lambda instrument: isInTimeRegion(instrument), history))\n",
    "    \n",
    "    # if the data has incorrect time boundaries, add time boundaries\n",
    "    if trimmed[0][0] != start:\n",
    "        trimmed.insert(0, (start, trimmed[0][1]))\n",
    "    if trimmed[-1][0] != end:\n",
    "        trimmed.append((end, trimmed[-1][1]))\n",
    "    return trimmed\n",
    "    \n",
    "# test our function\n",
    "trimmedStock0  = trimToRegion(rawStocks[0], start, end)\n",
    "# the first 5 records of stock 0\n",
    "print(trimmedStock0[:5])\n",
    "# the last 5 records of stock 0\n",
    "print(trimmedStock0[-5:])\n",
    "\n",
    "assert(trimmedStock0[0][0] == start), \"the first record must contain the price in the first day of time interval\"\n",
    "assert(trimmedStock0[-1][0] == end), \"the last record must contain the price in the last day of time interval\""
   ]
  },
  {
   "cell_type": "markdown",
   "metadata": {},
   "source": [
    "<div class=\"comment\"> \n",
    "For this question, we do a test with first stock in <i>rawStock</i>, e.g. <i>rawStock[0]</i>\n",
    "</div>"
   ]
  },
  {
   "cell_type": "markdown",
   "metadata": {},
   "source": [
    "### Dealing with missing values\n",
    "We expect that we have the price of instruments and factors **in each business day**. Unfortunately, there are many missing values in our data: this means that we miss data for some days, e.g. we have data for the monday of a certain week, but not for the subsequent tuesday. So, we need a function that helps filling these missing values.\n",
    "\n",
    "Next, we provide to you the function to fill missing value: read it carefully!"
   ]
  },
  {
   "cell_type": "code",
   "execution_count": 13,
   "metadata": {
    "collapsed": true
   },
   "outputs": [],
   "source": [
    "def fillInHistory(history, start, end):\n",
    "    curr = history\n",
    "    filled = []\n",
    "    idx = 0\n",
    "    curDate = start\n",
    "    numEntries = len(history)\n",
    "    while curDate < end:\n",
    "        \n",
    "        # if the next entry is in the same day\n",
    "        # or the next entry is at the weekend\n",
    "        # but the curDate has already skipped it and moved to the next monday\n",
    "        # (only in that case, curr[idx + 1][0] < curDate )\n",
    "        # then move to the next entry\n",
    "        while idx + 1 < numEntries and curr[idx + 1][0] <= curDate:\n",
    "            idx +=1\n",
    "\n",
    "        # only add the last value of instrument in a single day\n",
    "        # check curDate is weekday or not\n",
    "        # 0: Monday -> 5: Saturday, 6: Sunday\n",
    "        if curDate.weekday() < 5:\n",
    "            \n",
    "            filled.append((curDate, curr[idx][1]))\n",
    "            # move to the next business day\n",
    "            curDate += timedelta(days=1)\n",
    "        \n",
    "        # skip the weekends\n",
    "        if curDate.weekday() >= 5:\n",
    "            # if curDate is Sat, skip 2 days, otherwise, skip 1 day\n",
    "            curDate += timedelta(days=(7-curDate.weekday()))\n",
    "\n",
    "    return filled"
   ]
  },
  {
   "cell_type": "markdown",
   "metadata": {},
   "source": [
    "<div class='anchor' ></div>\n",
    "\n",
    "#### Question 4.5\n",
    "Trim data of stocks and factors into the given time interval."
   ]
  },
  {
   "cell_type": "code",
   "execution_count": 15,
   "metadata": {
    "collapsed": false
   },
   "outputs": [
    {
     "name": "stdout",
     "output_type": "stream",
     "text": [
      "the first 5 records of stock 0: [(datetime.datetime(2009, 1, 23, 0, 0), 0.61547), (datetime.datetime(2009, 1, 26, 0, 0), 0.61547), (datetime.datetime(2009, 1, 27, 0, 0), 0.64132), (datetime.datetime(2009, 1, 28, 0, 0), 0.66496), (datetime.datetime(2009, 1, 29, 0, 0), 0.66496)] \n",
      "\n",
      "the last 5 records of stock 0: [(datetime.datetime(2014, 1, 16, 0, 0), 30.05), (datetime.datetime(2014, 1, 17, 0, 0), 30.05), (datetime.datetime(2014, 1, 20, 0, 0), 30.05), (datetime.datetime(2014, 1, 21, 0, 0), 29.06), (datetime.datetime(2014, 1, 22, 0, 0), 29.06)] \n",
      "\n",
      "the first 5 records of factor 0: [(datetime.datetime(2009, 1, 23, 0, 0), 46.47), (datetime.datetime(2009, 1, 26, 0, 0), 45.73), (datetime.datetime(2009, 1, 27, 0, 0), 41.58), (datetime.datetime(2009, 1, 28, 0, 0), 42.16), (datetime.datetime(2009, 1, 29, 0, 0), 41.44)] \n",
      "\n",
      "the first 5 records of factor 0: [(datetime.datetime(2014, 1, 16, 0, 0), 93.96), (datetime.datetime(2014, 1, 17, 0, 0), 94.37), (datetime.datetime(2014, 1, 20, 0, 0), 93.93), (datetime.datetime(2014, 1, 21, 0, 0), 94.99), (datetime.datetime(2014, 1, 22, 0, 0), 96.73)] \n",
      "\n"
     ]
    }
   ],
   "source": [
    "#print rawStocks[0]\n",
    "\n",
    "# trim into a specific time region\n",
    "# and fill up the missing values\n",
    "stocks = list(map(lambda stock: \\\n",
    "            fillInHistory(\n",
    "                trimToRegion(stock, start, end), \n",
    "            start, end), \n",
    "        rawStocks))\n",
    "\n",
    "\n",
    "\n",
    "# merge two factors, trim each factor into a time region\n",
    "# and fill up the missing values\n",
    "allfactors = factors1 + factors2\n",
    "factors = list(map(lambda factor: \\\n",
    "            fillInHistory(\n",
    "                trimToRegion(factor, start, end), \n",
    "            start, end), \n",
    "            allfactors))\n",
    "            \n",
    "# test our code\n",
    "print(\"the first 5 records of stock 0:\", stocks[0][:5], \"\\n\")\n",
    "print(\"the last 5 records of stock 0:\", stocks[0][-5:], \"\\n\")\n",
    "print(\"the first 5 records of factor 0:\", factors[0][:5], \"\\n\")\n",
    "print(\"the first 5 records of factor 0:\", factors[0][-5:], \"\\n\")"
   ]
  },
  {
   "cell_type": "markdown",
   "metadata": {},
   "source": [
    "Recall that Value at Risk (VaR) deals with **losses over a particular time horizon**. We are not concerned with the absolute prices of instruments, but how those prices **change over** a given period of time. In our project, we will set that length to two weeks: we use the sliding window method to transform time series of prices into an overlapping sequence of price change over two-week intervals.\n",
    "\n",
    "The figure below illustrate this process. The returns of market factors after each two-week intervals is calculated in the very same way.\n",
    "\n",
    "![](https://dl.dropboxusercontent.com/s/r9ucsicichb6gjh/two-week-time-interval.svg)"
   ]
  },
  {
   "cell_type": "code",
   "execution_count": 16,
   "metadata": {
    "collapsed": true
   },
   "outputs": [],
   "source": [
    "def buildWindow(seq, k=2):\n",
    "    \"Returns a sliding window (of width k) over data from iterable data structures\"\n",
    "    \"   s -> (s0,s1,...s[k-1]), (s1,s2,...,sk), ...                   \"\n",
    "    it = iter(seq)\n",
    "    result = tuple(islice(it, k))\n",
    "    if len(result) == k:\n",
    "        yield result  \n",
    "    for elem in it:\n",
    "        result = result[1:] + (elem,)\n",
    "        yield result"
   ]
  },
  {
   "cell_type": "markdown",
   "metadata": {},
   "source": [
    "<div class='anchor' ></div>\n",
    "\n",
    "#### Question 4.6\n",
    "Compute the returns of the stocks after each two week time window."
   ]
  },
  {
   "cell_type": "code",
   "execution_count": 17,
   "metadata": {
    "collapsed": false
   },
   "outputs": [
    {
     "name": "stdout",
     "output_type": "stream",
     "text": [
      "the first 21 entries of stock 0: [(datetime.datetime(2009, 1, 23, 0, 0), 0.61547), (datetime.datetime(2009, 1, 26, 0, 0), 0.61547), (datetime.datetime(2009, 1, 27, 0, 0), 0.64132), (datetime.datetime(2009, 1, 28, 0, 0), 0.66496), (datetime.datetime(2009, 1, 29, 0, 0), 0.66496), (datetime.datetime(2009, 1, 30, 0, 0), 0.66496), (datetime.datetime(2009, 2, 2, 0, 0), 0.66496), (datetime.datetime(2009, 2, 3, 0, 0), 0.66496), (datetime.datetime(2009, 2, 4, 0, 0), 0.66496), (datetime.datetime(2009, 2, 5, 0, 0), 0.66496), (datetime.datetime(2009, 2, 6, 0, 0), 0.66496), (datetime.datetime(2009, 2, 9, 0, 0), 0.66471), (datetime.datetime(2009, 2, 10, 0, 0), 0.66471), (datetime.datetime(2009, 2, 11, 0, 0), 0.66471), (datetime.datetime(2009, 2, 12, 0, 0), 0.66471), (datetime.datetime(2009, 2, 13, 0, 0), 0.66471), (datetime.datetime(2009, 2, 16, 0, 0), 0.66471), (datetime.datetime(2009, 2, 17, 0, 0), 0.66471), (datetime.datetime(2009, 2, 18, 0, 0), 0.66471), (datetime.datetime(2009, 2, 19, 0, 0), 0.66471), (datetime.datetime(2009, 2, 20, 0, 0), 0.55392)]\n",
      "the first 5 returns of stock 0: [0.049490000000000034, 0.049490000000000034, 0.023390000000000022, -0.00024999999999997247, -0.00024999999999997247]\n",
      "the last 5 returns of stock 0: [1.3000000000000007, 0.8500000000000014, 0.8500000000000014, -1.0899999999999999, -0.40000000000000213]\n"
     ]
    }
   ],
   "source": [
    "def calculateReturn(window):\n",
    "    # return the change of value after two weeks\n",
    "    return window[-1][1] - window[0][1]\n",
    "\n",
    "def twoWeekReturns(history):\n",
    "    # we use 10 instead of 14 to define the window\n",
    "    # because financial data does not include weekends\n",
    "    return [calculateReturn(entry) for entry in buildWindow(history, 10)]\n",
    "\n",
    "stocksReturns = list(map(twoWeekReturns, stocks))\n",
    "factorsReturns = list(map(twoWeekReturns, factors))\n",
    "\n",
    "# test our functions\n",
    "print(\"the first 21 entries of stock 0:\", stocks[0][:21])\n",
    "\n",
    "print(\"the first 5 returns of stock 0:\", stocksReturns[0][:5])\n",
    "print(\"the last 5 returns of stock 0:\", stocksReturns[0][-5:])"
   ]
  },
  {
   "cell_type": "markdown",
   "metadata": {},
   "source": [
    "<div class=\"comment\"> We test results in <i>stocksReturns[0][:5]</i> by checking values in <i>stocks[0][:21]</i>. As we can see, the returns of the stocks after each two week time window are successfully extracted.\n",
    "</div>"
   ]
  },
  {
   "cell_type": "markdown",
   "metadata": {},
   "source": [
    "Alright! Now we have data that is properly aligned to start the training process: stocks' returns and factors' returns, per time windows of two weeks. Next, we will apply the MCS method."
   ]
  },
  {
   "cell_type": "markdown",
   "metadata": {},
   "source": [
    "## 5.5. Summary guidelines to apply the MCS method on the data we prepared\n",
    "Next, we overview the steps that you have to follow to build a model of your data, and then use Monte Carlo simulations to produce output distributions:\n",
    "\n",
    "- **Step 1**: Defining the relationship between the market factors and the instrument's returns. This relationship takes the form of a model fitted to historical data.\n",
    "- **Step 2**: Defining the distributions for the market conditions (particularly, the returns of factors) that are straightforward to sample from. These distributions are fitted to historical data. \n",
    "- **Step 3**: Generate the data for each trial of a Monte Carlo run: this amount to generating the random values for market conditions along with these distributions.\n",
    "- **Step 4**: For each trial, from the above values of market conditions, and using the relationship built in step 1, we calculate the return for each instrument and the total return. We use the returns to define an empirical distribution over losses. This means that, if we run 100 trials and want to estimate the 5% VaR, we would choose it as the loss from the trial with the fifth greatest loss.\n",
    "- **Step 5**: Evaluating the result"
   ]
  },
  {
   "cell_type": "markdown",
   "metadata": {},
   "source": [
    "## 5.6. Applying MCS\n",
    "\n",
    "### Step 1: Defining relationship between market factors and instrument's returns\n",
    "\n",
    "In our simulation, we will use a simple linear model. By our definition of return , a factor return is a **change** in the value of a market factor **over a particular time period**, e.g. if the value of the S&P 500 moves from 2000 to 2100 over a time interval, its return would be 100.\n",
    "\n",
    "A vector that contains the return of 4 market factors is called a *market factor vector*. Generally, instead of using this vector as features, we derive a set of features from simple transformation of it. In particular, a vector of 4 values is tranformed into a vector of length $m$ by function $F$. In the simplest case $F(v) = v$.\n",
    "\n",
    "Denote $v_t$ the market factor vector, and $f_t$ the transformed features of $v_t$ at time $t$.\n",
    "\n",
    "$f_{tj}$ is the value of feature $j$ in $f_t$.\n",
    "\n",
    "Denote $r_{it}$ the return of instrument $i$ at time $t$ and $c_i$ the [intercept term](http://blog.minitab.com/blog/adventures-in-statistics/regression-analysis-how-to-interpret-the-constant-y-intercept) of instrument $i$.\n",
    "\n",
    "We will use a simple linear function to calculate $r_{it}$ from $f_t$:\n",
    "\n",
    "$$\n",
    "r_{it} = c_i + \\sum_{j=1}^{m}{w_{ij}*f_{tj}}\n",
    "$$\n",
    "\n",
    "where $w_{ij}$ is the weight of feature $j$ for instrument $i$.\n",
    "\n",
    "All that above means that given a market factor vector, we have to \"featurize it\" and then use the result as a surrogate for calculating the return of the instruments, using the above linear function.\n",
    "\n",
    "There are two questions that we should consider: **how to featurize a factor vector ?** and **how to pick values for $w_{ij}$?**\n",
    "\n",
    "**How to featurize a factor vector ?**\n",
    "In fact, the instruments' returns may be non-linear functions of the factor returns. So, we should not use factor returns as features in the the above linear function. Instead, we tranform them into a set of features with different size. In this Notebook, we can include some additional features in our model that we derive from non-linear transformations of the factor returns. We will try adding two more features for each factor return: its square and its square root values. So, we can still assume that our model is a linear model in the sense that the response variable is a linear function of the new features. *Note that the particular feature transformation described here is meant to be an illustrative example of some of the options that are available: it shouldn't be considered as the state of the art in predictive financial modeling!!*.\n",
    "\n",
    "**How to pick values for $w_{ij}$ ?**\n",
    "\n",
    "For all the market factor vectors in our historical data, we tranform them to feature vectors. Now, we have feature vectors in many two-week intervals and the corresponding instrument's returns in these interval. We can use Odinary Least Square (OLS) regression model to estimate the weights for each instrument such that our linear function can fit to the data. The parameters for OLS function are:\n",
    "\n",
    "- `x`: The collection of columns where **each column** is the value of **a feature** in many two-week interval\n",
    "- `y`: The return of an instrument in the corresponding time interval of x."
   ]
  },
  {
   "cell_type": "markdown",
   "metadata": {},
   "source": [
    "The figure below shows the basic idea of the process to build a statistial model for predicting the returns of stock X.\n",
    "\n",
    "![](https://dl.dropboxusercontent.com/s/kbjtwmnr4w31uev/process-build-model3.svg)\n"
   ]
  },
  {
   "cell_type": "markdown",
   "metadata": {},
   "source": [
    "![](https://farm2.staticflickr.com/1604/24934700445_833f0a5649_t.jpg)"
   ]
  },
  {
   "cell_type": "markdown",
   "metadata": {},
   "source": [
    "<div class='anchor' ></div>\n",
    "\n",
    "### Question 5\n",
    "#### Question 5.1\n",
    "\n",
    "Currently, our data is in form of:\n",
    "\n",
    "$$\n",
    "factorsReturns=\n",
    "\\begin{bmatrix}\n",
    " r_{00} & r_{01} & r_{02} & ... & r_{0k} \\\\\n",
    " r_{10} & r_{11} & r_{12} & ... & r_{1k} \\\\\n",
    " ... & ... & ... & ... & ... \\\\\n",
    " r_{n0} & r_{n1} & r_{n2} & ... & r_{nk}\\\\\n",
    "\\end{bmatrix}\n",
    "$$\n",
    "\n",
    "\n",
    "$$\n",
    "stocksReturns=\n",
    "\\begin{bmatrix}\n",
    " s_{00} & s_{01} & s_{02} & ... & s_{0k} \\\\\n",
    " s_{10} & s_{11} & s_{12} & ... & s_{1k} \\\\\n",
    " ... & ... & ... & ... & ... \\\\\n",
    " s_{n0} & s_{n1} & s_{n2} & ... & s_{nk}\\\\\n",
    "\\end{bmatrix}\n",
    "$$\n",
    "\n",
    "Where, $r_{ij}$ is the return of factor $i^{th}$ in time window $j^{th}$, $k$ is the number of time windows, and $n$ is the number of factors. A similar definition goes for $s_{ij}$.\n",
    "\n",
    "In order to use OLS, the parameter must be in form of:\n",
    "\n",
    "$$\n",
    "x=factorsReturns^T =\n",
    "\\begin{bmatrix}\n",
    " r_{00} & r_{10} & ... & r_{n0} \\\\\n",
    " r_{01} & r_{11} & ... & r_{n1} \\\\\n",
    " r_{02} & r_{12} & ... & r_{n2}\\\\\n",
    " ... & ... & ... & ... \\\\\n",
    " r_{0k} & r_{1k} & ... & r_{nk}\\\\\n",
    "\\end{bmatrix}\n",
    "$$\n",
    "\n",
    "\n",
    "Whereas, $y$ can be any row in `stocksReturns`.\n",
    "\n",
    "So, we need a function to transpose a matrix. Write a function named `transpose` to do just that."
   ]
  },
  {
   "cell_type": "code",
   "execution_count": 19,
   "metadata": {
    "collapsed": true
   },
   "outputs": [],
   "source": [
    "def transpose(matrix):\n",
    "    zip(*matrix)\n",
    "    return [list(x) for x in zip(*matrix)]\n",
    "    \n",
    "# test function\n",
    "assert (transpose([[1,2,3], [4,5,6], [7,8,9]]) == [[1, 4, 7], [2, 5, 8], [3, 6, 9]]), \"Function transpose runs incorrectly\""
   ]
  },
  {
   "cell_type": "markdown",
   "metadata": {},
   "source": [
    "<div class='anchor' ></div>\n",
    "\n",
    "#### Question 5.2\n",
    "Write a function named `featurize` that takes a list factor's returns $[x_1, x_2,...,x_k]$ and transform it into a new list of features $[u_1,u_2,..,u_k, v_1, v_2,..,v_k, x_1,x_2,...,x_k]$.\n",
    "\n",
    "Where \n",
    "\n",
    "$u_i$ = $\\left\\{\n",
    "\t\\begin{array}{ll}\n",
    "\t\tx_i^2 & \\mbox{if } x_i \\geq 0 \\\\\n",
    "\t\t-x_i^2 & \\mbox{if } x_i < 0\n",
    "\t\\end{array}\n",
    "\\right.\n",
    "$\n",
    "\n",
    "and\n",
    "\n",
    "$v_i$ = $\\left\\{\n",
    "\t\\begin{array}{ll}\n",
    "\t\t\\sqrt{x_i} & \\mbox{if } x_i \\geq 0 \\\\\n",
    "\t\t-\\sqrt{x_i} & \\mbox{if } x_i < 0\n",
    "\t\\end{array}\n",
    "\\right.\n",
    "$"
   ]
  },
  {
   "cell_type": "code",
   "execution_count": 20,
   "metadata": {
    "collapsed": true
   },
   "outputs": [],
   "source": [
    "def featurize(factorReturns):\n",
    "    squaredReturns = [x**2 if x >= 0 else (-1)*x**2 for x in factorReturns]\n",
    "    squareRootedReturns = [x**(1.0/2) if x >= 0 else (-1)*(abs(x)**(1.0/2)) for x in factorReturns]\n",
    "    # concat new features\n",
    "    return squaredReturns + squareRootedReturns + factorReturns\n",
    "\n",
    "# test our function\n",
    "assert (featurize([4, -9, 25]) == [16, -81, 625, 2, -3, 5, 4, -9, 25]), \"Function runs incorrectly\"\n"
   ]
  },
  {
   "cell_type": "markdown",
   "metadata": {},
   "source": [
    "<div class='anchor' ></div>\n",
    "\n",
    "#### Question 5.3\n",
    "Using OLS, estimate the weights for each feature on each stock. What is the shape of `weights` (size of each dimension) ? Explain it."
   ]
  },
  {
   "cell_type": "code",
   "execution_count": 37,
   "metadata": {
    "collapsed": false
   },
   "outputs": [
    {
     "name": "stdout",
     "output_type": "stream",
     "text": [
      "weights: [array([[  3.93874268e-01,   7.39544928e+00,   9.57834376e-03,\n",
      "          1.25461873e+03,   7.13992156e+03,   4.23903915e-01,\n",
      "          5.06268934e-02,   2.44812838e+00,   4.04397558e+00,\n",
      "          1.00234241e+00,   2.59880918e-02,   1.77141921e+01,\n",
      "          4.45307944e+01]]), array([[  7.57370821e-03,   1.72198698e+00,   1.87271546e-03,\n",
      "          1.66014090e+02,   8.47090185e+02,   7.96014891e-02,\n",
      "          1.33762928e-02,   3.65799031e-01,   5.55102496e-01,\n",
      "          2.04812742e-01,   6.46323240e-03,   2.55445943e+00,\n",
      "          5.84387731e+00]]), array([[  2.35905607e-02,   1.35991704e+01,   1.83348935e-02,\n",
      "          1.49829893e+03,   7.85443364e+03,   7.71020778e-01,\n",
      "          1.22390389e-01,   3.53505788e+00,   5.44377467e+00,\n",
      "          1.91007785e+00,   6.05667769e-02,   2.44312504e+01,\n",
      "          5.70057457e+01]]), array([[  5.76106318e-02,   2.52781288e+00,  -7.70527818e-04,\n",
      "          1.68888588e+00,  -6.13244759e+02,   1.21823399e-01,\n",
      "         -2.45490662e-02,  -8.25452546e-02,  -5.51133310e-01,\n",
      "          2.92982009e-01,  -8.94526028e-03,  -8.38257329e-01,\n",
      "         -5.74203380e+00]]), array([[  1.35362361e-01,   8.20754589e+00,   1.00680365e-02,\n",
      "          1.11978854e+03,   5.82781566e+03,   5.02832213e-01,\n",
      "          9.67073280e-02,   2.70726472e+00,   4.14108203e+00,\n",
      "          1.18712700e+00,   4.22748324e-02,   1.85858625e+01,\n",
      "          4.35474496e+01]]), array([[  1.55132477e-01,   4.70844739e+00,   9.41584371e-03,\n",
      "          8.79443288e+02,   4.92719076e+03,   2.34375384e-01,\n",
      "          5.55965359e-02,   1.98711518e+00,   3.03348454e+00,\n",
      "          6.03726058e-01,   2.92116702e-02,   1.41337133e+01,\n",
      "          3.32607915e+01]]), array([[  5.23563090e-02,   5.75773016e+00,   8.69203315e-03,\n",
      "          9.19573134e+02,   4.22870518e+03,   2.88219196e-01,\n",
      "          5.99279424e-02,   1.98404372e+00,   2.94990436e+00,\n",
      "          7.37609092e-01,   3.01336089e-02,   1.43617037e+01,\n",
      "          3.11834233e+01]]), array([[  1.51244161e-01,  -9.14470141e-01,  -1.46200543e-03,\n",
      "          1.03828330e+01,   1.96779554e+02,  -3.29267426e-02,\n",
      "         -2.41585122e-02,   2.69997958e-01,   3.72819432e-01,\n",
      "         -1.30279509e-01,  -9.20955391e-03,   1.34187595e+00,\n",
      "          3.49075171e+00]]), array([[  2.44056304e-01,   8.17760614e+00,   1.21724596e-02,\n",
      "          1.62622717e+03,   1.01021807e+04,   5.36943385e-01,\n",
      "          1.45801278e-01,   4.23390186e+00,   7.88458754e+00,\n",
      "          1.28535714e+00,   6.07733835e-02,   2.93799031e+01,\n",
      "          8.16726813e+01]]), array([[  1.13825169e-01,   4.17014438e+01,   2.89645547e-02,\n",
      "          2.20402542e+03,   1.01189655e+04,   1.62125855e+00,\n",
      "          1.92278282e-01,   3.72823072e+00,   5.49039001e+00,\n",
      "          4.40360482e+00,   9.14134738e-02,   2.78639962e+01,\n",
      "          5.89479951e+01]]), array([[  4.68887125e-02,   1.19219726e+01,   2.51669562e-02,\n",
      "          2.09000092e+03,   1.06810018e+04,   5.86664687e-01,\n",
      "          1.35815829e-01,   4.11169252e+00,   6.42138523e+00,\n",
      "          1.48284040e+00,   7.34893717e-02,   3.00421790e+01,\n",
      "          6.99020025e+01]]), array([[  4.06684849e-01,   9.11076197e+00,   1.22947736e-02,\n",
      "          8.65535522e+02,   5.41984771e+03,   4.47340531e-01,\n",
      "          6.58640553e-02,   2.94010491e+00,   4.90676107e+00,\n",
      "          1.18199906e+00,   3.63249764e-02,   1.79206733e+01,\n",
      "          4.74195825e+01]]), array([[  1.01170975e-01,   3.00509767e+00,   9.09246445e-04,\n",
      "          5.39988660e+02,   2.79496321e+03,   3.13010698e-01,\n",
      "         -9.12914568e-03,   1.51307438e+00,   1.97753228e+00,\n",
      "          5.87022484e-01,  -6.79589658e-04,   1.01342552e+01,\n",
      "          2.11888028e+01]]), array([[  7.55027443e-02,   2.20240322e+01,   1.64640380e-02,\n",
      "          1.50031589e+03,   7.34293717e+03,   9.59737316e-01,\n",
      "          1.04698288e-01,   3.18019879e+00,   4.57941274e+00,\n",
      "          2.53378280e+00,   5.18513539e-02,   2.26699936e+01,\n",
      "          4.85281190e+01]]), array([[  2.59396121e-01,   1.75788605e+01,   1.99757522e-02,\n",
      "          1.97585136e+03,   1.05997370e+04,   9.38468308e-01,\n",
      "          1.27725534e-01,   4.84898112e+00,   7.27591355e+00,\n",
      "          2.31522604e+00,   6.47610159e-02,   3.28607161e+01,\n",
      "          7.67460139e+01]]), array([[  1.60719833e-02,   7.59780306e-01,   1.27551692e-03,\n",
      "          1.61641253e+02,   8.59419693e+02,   5.47210423e-02,\n",
      "          6.39128157e-03,   3.66889455e-01,   6.00283448e-01,\n",
      "          1.23359357e-01,   3.57914743e-03,   2.58933723e+00,\n",
      "          6.29655646e+00]]), array([[  1.07865984e-01,   1.01225283e+00,   4.00224350e-03,\n",
      "          1.06217133e+02,   1.09354973e+03,   1.03437317e-01,\n",
      "          2.94202030e-02,   5.11596111e-01,   7.82173003e-01,\n",
      "          2.18541788e-01,   1.39324793e-02,   2.84676412e+00,\n",
      "          7.78692188e+00]]), array([[  6.20166431e-03,   2.51569075e+00,   2.61691636e-03,\n",
      "          1.95511044e+02,   1.12270676e+03,   1.12978071e-01,\n",
      "          1.62346857e-02,   3.49466885e-01,   5.86210358e-01,\n",
      "          2.93737782e-01,   7.98830832e-03,   2.58595029e+00,\n",
      "          6.63515045e+00]]), array([[  4.00517774e-02,   4.96197241e+00,   8.31957618e-03,\n",
      "          1.12932292e+03,   5.29527752e+03,   2.96941087e-01,\n",
      "          5.64370527e-02,   2.18268017e+00,   3.20771592e+00,\n",
      "          7.09402314e-01,   2.83398808e-02,   1.64649014e+01,\n",
      "          3.57926038e+01]]), array([[  5.12191951e-01,   6.55137455e+00,   1.40689571e-02,\n",
      "          1.48631965e+03,   7.75494514e+03,   5.88427565e-01,\n",
      "          1.36283605e-01,   4.00917099e+00,   5.90506302e+00,\n",
      "          1.24154750e+00,   6.08527570e-02,   2.67359070e+01,\n",
      "          6.18293152e+01]]), array([[  3.47564088e-01,   3.62470409e+00,   1.67036043e-02,\n",
      "          1.42444388e+03,   7.53158167e+03,   2.61350078e-01,\n",
      "          9.67280915e-02,   3.22482275e+00,   4.98666115e+00,\n",
      "          5.63563391e-01,   5.09164505e-02,   2.29136720e+01,\n",
      "          5.40566612e+01]]), array([[  3.61366193e-02,   5.81864598e+00,   6.77809395e-03,\n",
      "          4.32262185e+02,   2.47696194e+03,   3.66873428e-01,\n",
      "          4.46724605e-02,   9.00356698e-01,   1.51968009e+00,\n",
      "          8.74310298e-01,   2.24235603e-02,   6.41152287e+00,\n",
      "          1.65630839e+01]]), array([[  1.71647550e-04,   2.48143198e+00,   2.82128998e-03,\n",
      "          2.30717169e+02,   1.30258165e+03,   1.07487826e-01,\n",
      "          1.99866846e-02,   4.88059474e-01,   7.83021104e-01,\n",
      "          2.90000467e-01,   9.71292999e-03,   3.48231535e+00,\n",
      "          8.61181206e+00]]), array([[  3.08303796e-01,   8.78633358e+00,   2.00641101e-02,\n",
      "          1.16934162e+03,   5.08290798e+03,   4.50230213e-01,\n",
      "          1.56021885e-01,   2.51957629e+00,   3.69092328e+00,\n",
      "          1.10679663e+00,   7.46637394e-02,   1.81783150e+01,\n",
      "          3.84307287e+01]]), array([[  2.32455977e-02,   2.41168006e+00,   1.28474156e-03,\n",
      "          9.32279575e+02,   4.63251393e+03,   1.11654110e-01,\n",
      "         -8.66303906e-05,   2.29558296e+00,   3.55589783e+00,\n",
      "          2.81556865e-01,   1.20449408e-03,   1.57055853e+01,\n",
      "          3.57724690e+01]]), array([[  7.82205723e-02,   1.04817196e+01,   1.12980321e-02,\n",
      "          1.61666170e+03,   7.60167406e+03,   5.17839537e-01,\n",
      "          8.65465161e-02,   3.36225980e+00,   5.03472016e+00,\n",
      "          1.32669325e+00,   4.16992142e-02,   2.47528836e+01,\n",
      "          5.43179119e+01]]), array([[  1.35796141e-01,   3.15087944e+00,   4.77760414e-03,\n",
      "          6.93302155e+02,   3.88673917e+03,   2.97239039e-01,\n",
      "          2.55964658e-02,   1.76074952e+00,   2.69658283e+00,\n",
      "          5.95752057e-01,   1.44990257e-02,   1.20443616e+01,\n",
      "          2.86314446e+01]])]\n",
      "Shape of weights 27 x 13\n"
     ]
    }
   ],
   "source": [
    "def estimateParams(y, x):\n",
    "    return sm.OLS(y, x).fit().params\n",
    "\n",
    "# transpose factorsReturns\n",
    "factorMat = transpose(factorsReturns)\n",
    "\n",
    "# featurize each row of factorMat\n",
    "factorFeatures = list(map(featurize,factorMat))\n",
    "\n",
    "# OLS require parameter is a numpy array\n",
    "factor_columns = np.array(factorFeatures)\n",
    "\n",
    "#add a constant - the intercept term for each instrument i.\n",
    "factor_columns = sm.add_constant(factor_columns, prepend=True)\n",
    "\n",
    "# estimate weights\n",
    "weights = [estimateParams(factor_columns,stockReturns) for stockReturns in stocksReturns]\n",
    "\n",
    "print(\"weights:\", weights)\n",
    "\n",
    "print(\"Shape of weights\", len(weights),\"x\", len(weights[0][0]))"
   ]
  },
  {
   "cell_type": "markdown",
   "metadata": {},
   "source": [
    "<div class=\"answer\">\n",
    "<br>-As we can see, the shape of `weights` is 27x13, in which, `27` is number of rows or those are 27 different instruments' returns and `13` is number of columns or those are values of weights $w_{ij}$ corresponding to the values of 12 features featurizing from 4 market factors in many two-week intervals plus 1 intercept term of each instrument. In the other words, `weights` contains the list of 12 values of weights $w_{ij}$ corresponding to the values of 12 features + 1 intercept term for 27 instruments such that the linear model, which performs the relationship between market factors (see the description in section 5.6), and instrument's returns can fit to the data.\n",
    "<br>- If the weight of a factor is negative, it means that increasing the value of that factor will only reduce the stock returns. So to increase the stock's return, we must decrease the value of factors with negative weights.\n",
    "</div>"
   ]
  },
  {
   "cell_type": "markdown",
   "metadata": {},
   "source": [
    "### Step 2: Defining the distributions for the market conditions\n",
    "Since we can not define the ditributions for the market factors directly, we can only approximate their distribution.\n",
    "The best way to do that, is plotting their value. Howevery, these values may fluctuate quite a lot. \n",
    "\n",
    "Next, we show how to use the Kernel density estimation (KDE) technique to approximate such distributions. In brief, kernel density estimation is a way of smoothing out a histogram: this is achieved by assigning (or centering) a probability distribution (usually a normal distribution) to each data point, and then summing. So a set of two-week-return samples would result in a large number of \"super-imposed\" normal distributions, each with a different mean. \n",
    "\n",
    "To estimate the probability density at a given point, KDE evaluates the PDFs of all the normal distributions at that point and takes their average. The smoothness of a kernel density plot depends on its *bandwidth*, and the standard deviation of each of the normal distributions. For a brief introduction on KDE, please refer to this [link](https://en.wikipedia.org/wiki/Kernel_density_estimation)."
   ]
  },
  {
   "cell_type": "code",
   "execution_count": 22,
   "metadata": {
    "collapsed": false,
    "scrolled": true
   },
   "outputs": [
    {
     "data": {
      "image/png": "[encoded data removed]",
      "text/plain": [
       "<matplotlib.figure.Figure at 0x7f18d36a8a20>"
      ]
     },
     "metadata": {},
     "output_type": "display_data"
    },
    {
     "data": {
      "image/png": "[encoded data removed]",
      "text/plain": [
       "<matplotlib.figure.Figure at 0x7f18cc39e390>"
      ]
     },
     "metadata": {},
     "output_type": "display_data"
    },
    {
     "data": {
      "image/png": "[encoded data removed]",
      "text/plain": [
       "<matplotlib.figure.Figure at 0x7f18cbe39080>"
      ]
     },
     "metadata": {},
     "output_type": "display_data"
    },
    {
     "data": {
      "image/png": "[encoded data removed]",
      "text/plain": [
       "<matplotlib.figure.Figure at 0x7f18cbe0ed30>"
      ]
     },
     "metadata": {},
     "output_type": "display_data"
    }
   ],
   "source": [
    "from statsmodels.nonparametric.kernel_density import KDEMultivariate\n",
    "from statsmodels.nonparametric.kde import KDEUnivariate\n",
    "import matplotlib.pyplot as plt\n",
    "import scipy\n",
    "\n",
    "def plotDistribution(samples):\n",
    "    vmin = min(samples)\n",
    "    vmax = max(samples)\n",
    "    stddev = np.std(samples)\n",
    "    \n",
    "    domain = np.arange(vmin, vmax, (vmax-vmin)/100)\n",
    "    \n",
    "    # a simple heuristic to select bandwidth\n",
    "    bandwidth = 1.06 * stddev * pow(len(samples), -.2)\n",
    "    \n",
    "    # estimate density\n",
    "    kde = KDEUnivariate(samples)\n",
    "    kde.fit(bw=bandwidth)\n",
    "    density = kde.evaluate(domain)\n",
    "    \n",
    "    # plot\n",
    "    plt.plot(domain, density)\n",
    "    plt.show()\n",
    "\n",
    "plotDistribution(factorsReturns[0])\n",
    "plotDistribution(factorsReturns[1])\n",
    "plotDistribution(factorsReturns[2])\n",
    "plotDistribution(factorsReturns[3])"
   ]
  },
  {
   "cell_type": "markdown",
   "metadata": {},
   "source": [
    "For the sake of simplicity, we can say that our smoothed versions of the returns of each factor can be represented quite well by a a normal distribution. Of course, more exotic distributions, perhaps with fatter tails, could fit more closely the data, but it is outside the scope of this Notebook to proceed in this way.\n",
    "\n",
    "Now, the simplest way to sample factors returns is to use a normal distribution for each of the factors, and sample from these distributions independently. However, this approach ignores the fact that market factors are often correlated. For example, when the price of crude oil is down, the price of treasury bonds is down too. We can check our data to verify about the correlation."
   ]
  },
  {
   "cell_type": "markdown",
   "metadata": {},
   "source": [
    "![](https://farm2.staticflickr.com/1604/24934700445_833f0a5649_t.jpg)"
   ]
  },
  {
   "cell_type": "markdown",
   "metadata": {},
   "source": [
    "<div class='anchor' ></div>\n",
    "\n",
    "### Question 6\n",
    "\n",
    "#### Question 6.1\n",
    "Calculate the correlation between market factors and explain the result.\n",
    "\n",
    "HINT: function `np.corrcoef` might be useful."
   ]
  },
  {
   "cell_type": "code",
   "execution_count": 52,
   "metadata": {
    "collapsed": false
   },
   "outputs": [
    {
     "name": "stdout",
     "output_type": "stream",
     "text": [
      "[[ 1.          0.38507954  0.47411609  0.45841194]\n",
      " [ 0.38507954  1.          0.55213086  0.54918324]\n",
      " [ 0.47411609  0.55213086  1.          0.95227596]\n",
      " [ 0.45841194  0.54918324  0.95227596  1.        ]]\n"
     ]
    },
    {
     "data": {
      "image/png": "[encoded data removed]",
      "text/plain": [
       "<matplotlib.figure.Figure at 0x7f18cbd7e2b0>"
      ]
     },
     "metadata": {},
     "output_type": "display_data"
    },
    {
     "data": {
      "image/png": "[encoded data removed]",
      "text/plain": [
       "<matplotlib.figure.Figure at 0x7f18cbd7a080>"
      ]
     },
     "metadata": {},
     "output_type": "display_data"
    },
    {
     "data": {
      "image/png": "[encoded data removed]",
      "text/plain": [
       "<matplotlib.figure.Figure at 0x7f18cbdb5b70>"
      ]
     },
     "metadata": {},
     "output_type": "display_data"
    }
   ],
   "source": [
    "correlation = np.corrcoef(factorsReturns)\n",
    "\n",
    "print(correlation)\n",
    "\n",
    "''' Correlation between 3rd factor and 4th factor '''\n",
    "plt.plot(factorsReturns[2], factorsReturns[3], 'o')\n",
    "par = np.polyfit(factorsReturns[2], factorsReturns[3], 1, full=True)\n",
    "slope=par[0][0]\n",
    "intercept=par[0][1]\n",
    "xl = [min(factorsReturns[2]), max(factorsReturns[2])]\n",
    "yl = [slope*xx + intercept  for xx in xl]\n",
    "plt.plot(xl, yl, '-r')\n",
    "plt.title(\"Correlation between 3rd factor and 4th factor\")\n",
    "plt.show()\n",
    "\n",
    "''' Correlation between 2nd factor and 3rd factor '''\n",
    "plt.plot(factorsReturns[1], factorsReturns[2], 'o')\n",
    "par = np.polyfit(factorsReturns[1], factorsReturns[2], 1, full=True)\n",
    "slope=par[0][0]\n",
    "intercept=par[0][1]\n",
    "xl = [min(factorsReturns[1]), max(factorsReturns[1])]\n",
    "yl = [slope*xx + intercept  for xx in xl]\n",
    "plt.plot(xl, yl, '-r')\n",
    "plt.title(\"Correlation between 2nd factor and 3rd factor\")\n",
    "plt.show()\n",
    "\n",
    "''' Correlation between 1st factor and 2nd factor '''\n",
    "plt.plot(factorsReturns[0], factorsReturns[1], 'o')\n",
    "par = np.polyfit(factorsReturns[0], factorsReturns[1], 1, full=True)\n",
    "slope=par[0][0]\n",
    "intercept=par[0][1]\n",
    "xl = [min(factorsReturns[0]), max(factorsReturns[0])]\n",
    "yl = [slope*xx + intercept  for xx in xl]\n",
    "plt.plot(xl, yl, '-r')\n",
    "plt.title(\"Correlation between 1st factor and 2nd factor\")\n",
    "plt.show()"
   ]
  },
  {
   "cell_type": "markdown",
   "metadata": {},
   "source": [
    "<div class=\"comment\">\n",
    "The correlation table gives the linear relationships values between market factors. The bigger the correlation value is, the more linearly related the factors are. We ploted 3 specific examples of correlation values in the table: 0.95227596 (betweem factor 3 and 4), 0.58837126 (between factor 2 and 3) and 0.39107214 (between factor 1 and 2). As we can see from the plots, the relationship of factors with higher correlation will be more easily represented by a linear function with 0.95227596 being very close to a straight line, 0.58837126 more scattered around the line and 0.39107214 not very concentrated around the line at all.\n",
    "\n",
    "</div>"
   ]
  },
  {
   "cell_type": "markdown",
   "metadata": {},
   "source": [
    "\n",
    "\n",
    "The multivariate normal distribution can help here by taking the correlation information between the factors into account. Each sample from a multivariate normal distribution can be thought of as a vector. Given values for all of the dimensions but one, the distribution of values along that dimension is normal. But, in their joint distribution, the variables are not independent.\n",
    "\n",
    "For this use case, we can write:\n",
    "\n",
    "$$\n",
    "\\left(\\begin{array}{c}f_{1}\\\\f_{2}\\\\f_{3}\\\\f_{4} \\end{array}\\right)\n",
    "\\sim N \n",
    "\\left[\n",
    "  \\left(\n",
    "    \\begin{array}{c}\n",
    "      \\mu_1\\\\ \\mu_2 \\\\ \\mu_3 \\\\ \\mu_4 \n",
    "    \\end{array}\n",
    "  \\right), \n",
    "  \\left(\n",
    "    \\begin{array}{cccc}\n",
    "      \\sigma^2_1 & \\rho_{12} \\sigma_1\\sigma_2 & \\rho_{13} \\sigma_1\\sigma_3 & \\rho_{14} \\sigma_1\\sigma_4 \\\\ \n",
    "      \\rho_{12}\\sigma_2\\sigma_1 & \\sigma^2_2 & \\rho_{23} \\sigma_2\\sigma_3 & \\rho_{24} \\sigma_2\\sigma_4\\\\\n",
    "      \\rho_{13} \\sigma_3\\sigma_1 & \\rho_{23} \\sigma_3\\sigma_2 & \\sigma^2_3 & \\rho_{34} \\sigma_3\\sigma_4 \\\\ \n",
    "      \\rho_{14} \\sigma_4\\sigma_1 & \\rho_{24} \\sigma_4\\sigma_2 & \\rho_{34} \\sigma_3\\sigma_4 & \\sigma_4^2 \\\\ \n",
    "    \\end{array}\n",
    "  \\right)\n",
    "\\right]\n",
    "$$\n",
    "\n",
    "Or,\n",
    "\n",
    "$$\n",
    "f_t \\sim N(\\mu, \\sum)\n",
    "$$\n",
    "\n",
    "Where $f_1$, $f_2$, $f_3$ and $f_4$ are the market factors, $\\sigma_i$ is the standard deviation of factor $i$, $\\mu$ is a vector of the empirical means of the returns of the factors and $\\sum$ is the empirical covarance matrix of the returns of the factors.\n",
    "\n",
    "The multivariate normal is parameterized with a mean along each dimension and a matrix describing the covariance between each pair of dimensions. When the covariance matrix is diagonal, the multivariate normal reduces to sampling along each dimension independently, but placing non-zero values in the off-diagonals helps capture the relationships between variables. Whenever having the mean of this multivariate normal distribution and it's covariance matrix, we can generate the sample values for market factors.\n",
    "\n",
    "Next, we will calculate the mean and the covariance matrix of this multivariate normal distribution from the historical data.\n"
   ]
  },
  {
   "cell_type": "markdown",
   "metadata": {},
   "source": [
    "<div class='anchor' ></div>\n",
    "\n",
    "#### Question 6.2\n",
    "Calculate the covariance matrix $\\sum$ and the means $\\mu$ of factors' returns then generate a random vector of factors return that follows a multivariate normal distribution $\\sim N(\\mu, \\sum)$\n",
    "\n",
    "HINT:\n",
    "Function `np.cov` can help calculating covariance matrix. Function `np.random.multivariate_normal(<mean>, <cov>)` is often used for generating samples."
   ]
  },
  {
   "cell_type": "code",
   "execution_count": 50,
   "metadata": {
    "collapsed": false
   },
   "outputs": [
    {
     "name": "stdout",
     "output_type": "stream",
     "text": [
      "[[  2.03712313e+01   2.70383097e-01   7.77281497e+01   1.72733934e+02]\n",
      " [  2.70383097e-01   2.42014227e-02   3.11994882e+00   7.13264857e+00]\n",
      " [  7.77281497e+01   3.11994882e+00   1.31938031e+03   2.88775882e+03]\n",
      " [  1.72733934e+02   7.13264857e+00   2.88775882e+03   6.96989443e+03]]\n",
      "[0.35908880308880364, 0.0019722007722007863, 6.953868592277998, 18.7092272903475]\n",
      "[10.08416892143962, -0.16039941784769127, 9.286005184177974, 29.92226710152601]\n",
      "[101.6904628361287, -0.02572797324587826, 86.2298922805802, 895.3420684950657, 3.1755580488222255, -0.4004989611068814, 3.047294732082536, 5.470124962149038, 10.08416892143962, -0.16039941784769127, 9.286005184177974, 29.92226710152601]\n"
     ]
    }
   ],
   "source": [
    "factorCov = np.cov(factorsReturns)\n",
    "factorMeans = [sum(factorsReturns[i])/len(factorsReturns[i]) for i in range(0,4)]\n",
    "sample = np.random.multivariate_normal(factorMeans, factorCov).tolist()\n",
    "print(factorCov)\n",
    "\n",
    "print(factorMeans)\n",
    "\n",
    "print(sample)\n",
    "\n",
    "print(featurize(sample))"
   ]
  },
  {
   "cell_type": "markdown",
   "metadata": {},
   "source": [
    "### Step 3&4: Generating samples, running simulation and calculating the VaR"
   ]
  },
  {
   "cell_type": "markdown",
   "metadata": {},
   "source": [
    "We define some functions that helps us calculating VaR 5%. You will see that the functions below are pretty complicated! This is why we provide a solution for you: however, study them well!!\n",
    "\n",
    "The basic idea of calculating VaR 5% is that we need to find a value such that only 5% of the losses are bigger than it. That means the 5th percentile of the losses should be VaR 5%.\n",
    "\n",
    "VaR can sometimes be problematic though, since it does give any information on the extent of the losses which can exceed the VaR estimate. CVar is an extension of VaR that is introduced to deal with this problem. Indeed, CVaR measures the expected value of the loss in those cases where VaR estimate has been exceeded."
   ]
  },
  {
   "cell_type": "code",
   "execution_count": 59,
   "metadata": {
    "collapsed": true
   },
   "outputs": [],
   "source": [
    "def fivePercentVaR(trials):\n",
    "    numTrials = trials.count()\n",
    "    topLosses = trials.takeOrdered(max(round(numTrials/20.0), 1))\n",
    "    return topLosses[-1]\n",
    "\n",
    "# an extension of VaR\n",
    "def fivePercentCVaR(trials):\n",
    "    numTrials = trials.count()\n",
    "    topLosses = trials.takeOrdered(max(round(numTrials/20.0), 1))\n",
    "    return sum(topLosses)/len(topLosses)\n",
    "\n",
    "def bootstrappedConfidenceInterval(\n",
    "      trials, computeStatisticFunction,\n",
    "      numResamples, pValue):\n",
    "    stats = []\n",
    "    for i in range(0, numResamples):\n",
    "        resample = trials.sample(True, 1.0)\n",
    "        stats.append(computeStatisticFunction(resample))\n",
    "    sorted(stats)\n",
    "    lowerIndex = int(numResamples * pValue / 2 - 1)\n",
    "    upperIndex = int(np.ceil(numResamples * (1 - pValue / 2)))\n",
    "    return (stats[lowerIndex], stats[upperIndex])"
   ]
  },
  {
   "cell_type": "markdown",
   "metadata": {},
   "source": [
    "Next, we will run the Monte Carlo simulation 10,000 times, in parallel using Spark. Since your cluster has 12 cores (two Spark worker nodes, each with 6 cores), we can set `parallelism = 12` to dispatch simulation on these cores, across the two machines (remember, those are not really \"physical machines\", they are Docker containers running in our infrastructure)."
   ]
  },
  {
   "cell_type": "markdown",
   "metadata": {},
   "source": [
    "![](https://farm2.staticflickr.com/1604/24934700445_833f0a5649_t.jpg)"
   ]
  },
  {
   "cell_type": "markdown",
   "metadata": {},
   "source": [
    "<div class='anchor' ></div>\n",
    "\n",
    "### Question 7\n",
    "Complete the code below to define the simulation process and calculate VaR 5%."
   ]
  },
  {
   "cell_type": "code",
   "execution_count": 64,
   "metadata": {
    "collapsed": false
   },
   "outputs": [
    {
     "ename": "Py4JJavaError",
     "evalue": "An error occurred while calling z:org.apache.spark.api.python.PythonRDD.collectAndServe.\n: org.apache.spark.SparkException: Job aborted due to stage failure: Task 7 in stage 13.0 failed 4 times, most recent failure: Lost task 7.3 in stage 13.0 (TID 628, spark-worker1-aml-lab-group18-prod-zoe.group18-prod-zoe): org.apache.spark.api.python.PythonException: Traceback (most recent call last):\n  File \"/opt/spark/python/lib/pyspark.zip/pyspark/worker.py\", line 98, in main\n    command = pickleSer._read_with_length(infile)\n  File \"/opt/spark/python/lib/pyspark.zip/pyspark/serializers.py\", line 164, in _read_with_length\n    return self.loads(obj)\n  File \"/opt/spark/python/lib/pyspark.zip/pyspark/serializers.py\", line 419, in loads\n    return pickle.loads(obj, encoding=encoding)\nImportError: No module named 'numpy'\n\n\tat org.apache.spark.api.python.PythonRunner$$anon$1.read(PythonRDD.scala:166)\n\tat org.apache.spark.api.python.PythonRunner$$anon$1.<init>(PythonRDD.scala:207)\n\tat org.apache.spark.api.python.PythonRunner.compute(PythonRDD.scala:125)\n\tat org.apache.spark.api.python.PythonRDD.compute(PythonRDD.scala:70)\n\tat org.apache.spark.rdd.RDD.computeOrReadCheckpoint(RDD.scala:300)\n\tat org.apache.spark.CacheManager.getOrCompute(CacheManager.scala:69)\n\tat org.apache.spark.rdd.RDD.iterator(RDD.scala:262)\n\tat org.apache.spark.api.python.PythonRDD.compute(PythonRDD.scala:70)\n\tat org.apache.spark.rdd.RDD.computeOrReadCheckpoint(RDD.scala:300)\n\tat org.apache.spark.rdd.RDD.iterator(RDD.scala:264)\n\tat org.apache.spark.scheduler.ResultTask.runTask(ResultTask.scala:66)\n\tat org.apache.spark.scheduler.Task.run(Task.scala:88)\n\tat org.apache.spark.executor.Executor$TaskRunner.run(Executor.scala:214)\n\tat java.util.concurrent.ThreadPoolExecutor.runWorker(ThreadPoolExecutor.java:1145)\n\tat java.util.concurrent.ThreadPoolExecutor$Worker.run(ThreadPoolExecutor.java:615)\n\tat java.lang.Thread.run(Thread.java:745)\n\nDriver stacktrace:\n\tat org.apache.spark.scheduler.DAGScheduler.org$apache$spark$scheduler$DAGScheduler$$failJobAndIndependentStages(DAGScheduler.scala:1283)\n\tat org.apache.spark.scheduler.DAGScheduler$$anonfun$abortStage$1.apply(DAGScheduler.scala:1271)\n\tat org.apache.spark.scheduler.DAGScheduler$$anonfun$abortStage$1.apply(DAGScheduler.scala:1270)\n\tat scala.collection.mutable.ResizableArray$class.foreach(ResizableArray.scala:59)\n\tat scala.collection.mutable.ArrayBuffer.foreach(ArrayBuffer.scala:47)\n\tat org.apache.spark.scheduler.DAGScheduler.abortStage(DAGScheduler.scala:1270)\n\tat org.apache.spark.scheduler.DAGScheduler$$anonfun$handleTaskSetFailed$1.apply(DAGScheduler.scala:697)\n\tat org.apache.spark.scheduler.DAGScheduler$$anonfun$handleTaskSetFailed$1.apply(DAGScheduler.scala:697)\n\tat scala.Option.foreach(Option.scala:236)\n\tat org.apache.spark.scheduler.DAGScheduler.handleTaskSetFailed(DAGScheduler.scala:697)\n\tat org.apache.spark.scheduler.DAGSchedulerEventProcessLoop.doOnReceive(DAGScheduler.scala:1496)\n\tat org.apache.spark.scheduler.DAGSchedulerEventProcessLoop.onReceive(DAGScheduler.scala:1458)\n\tat org.apache.spark.scheduler.DAGSchedulerEventProcessLoop.onReceive(DAGScheduler.scala:1447)\n\tat org.apache.spark.util.EventLoop$$anon$1.run(EventLoop.scala:48)\n\tat org.apache.spark.scheduler.DAGScheduler.runJob(DAGScheduler.scala:567)\n\tat org.apache.spark.SparkContext.runJob(SparkContext.scala:1824)\n\tat org.apache.spark.SparkContext.runJob(SparkContext.scala:1837)\n\tat org.apache.spark.SparkContext.runJob(SparkContext.scala:1850)\n\tat org.apache.spark.SparkContext.runJob(SparkContext.scala:1921)\n\tat org.apache.spark.rdd.RDD$$anonfun$collect$1.apply(RDD.scala:909)\n\tat org.apache.spark.rdd.RDDOperationScope$.withScope(RDDOperationScope.scala:147)\n\tat org.apache.spark.rdd.RDDOperationScope$.withScope(RDDOperationScope.scala:108)\n\tat org.apache.spark.rdd.RDD.withScope(RDD.scala:310)\n\tat org.apache.spark.rdd.RDD.collect(RDD.scala:908)\n\tat org.apache.spark.api.python.PythonRDD$.collectAndServe(PythonRDD.scala:405)\n\tat org.apache.spark.api.python.PythonRDD.collectAndServe(PythonRDD.scala)\n\tat sun.reflect.NativeMethodAccessorImpl.invoke0(Native Method)\n\tat sun.reflect.NativeMethodAccessorImpl.invoke(NativeMethodAccessorImpl.java:57)\n\tat sun.reflect.DelegatingMethodAccessorImpl.invoke(DelegatingMethodAccessorImpl.java:43)\n\tat java.lang.reflect.Method.invoke(Method.java:606)\n\tat py4j.reflection.MethodInvoker.invoke(MethodInvoker.java:231)\n\tat py4j.reflection.ReflectionEngine.invoke(ReflectionEngine.java:379)\n\tat py4j.Gateway.invoke(Gateway.java:259)\n\tat py4j.commands.AbstractCommand.invokeMethod(AbstractCommand.java:133)\n\tat py4j.commands.CallCommand.execute(CallCommand.java:79)\n\tat py4j.GatewayConnection.run(GatewayConnection.java:207)\n\tat java.lang.Thread.run(Thread.java:745)\nCaused by: org.apache.spark.api.python.PythonException: Traceback (most recent call last):\n  File \"/opt/spark/python/lib/pyspark.zip/pyspark/worker.py\", line 98, in main\n    command = pickleSer._read_with_length(infile)\n  File \"/opt/spark/python/lib/pyspark.zip/pyspark/serializers.py\", line 164, in _read_with_length\n    return self.loads(obj)\n  File \"/opt/spark/python/lib/pyspark.zip/pyspark/serializers.py\", line 419, in loads\n    return pickle.loads(obj, encoding=encoding)\nImportError: No module named 'numpy'\n\n\tat org.apache.spark.api.python.PythonRunner$$anon$1.read(PythonRDD.scala:166)\n\tat org.apache.spark.api.python.PythonRunner$$anon$1.<init>(PythonRDD.scala:207)\n\tat org.apache.spark.api.python.PythonRunner.compute(PythonRDD.scala:125)\n\tat org.apache.spark.api.python.PythonRDD.compute(PythonRDD.scala:70)\n\tat org.apache.spark.rdd.RDD.computeOrReadCheckpoint(RDD.scala:300)\n\tat org.apache.spark.CacheManager.getOrCompute(CacheManager.scala:69)\n\tat org.apache.spark.rdd.RDD.iterator(RDD.scala:262)\n\tat org.apache.spark.api.python.PythonRDD.compute(PythonRDD.scala:70)\n\tat org.apache.spark.rdd.RDD.computeOrReadCheckpoint(RDD.scala:300)\n\tat org.apache.spark.rdd.RDD.iterator(RDD.scala:264)\n\tat org.apache.spark.scheduler.ResultTask.runTask(ResultTask.scala:66)\n\tat org.apache.spark.scheduler.Task.run(Task.scala:88)\n\tat org.apache.spark.executor.Executor$TaskRunner.run(Executor.scala:214)\n\tat java.util.concurrent.ThreadPoolExecutor.runWorker(ThreadPoolExecutor.java:1145)\n\tat java.util.concurrent.ThreadPoolExecutor$Worker.run(ThreadPoolExecutor.java:615)\n\t... 1 more\n",
     "output_type": "error",
     "traceback": [
      "\u001b[1;31m---------------------------------------------------------------------------\u001b[0m",
      "\u001b[1;31mPy4JJavaError\u001b[0m                             Traceback (most recent call last)",
      "\u001b[1;32m<ipython-input-64-e5d35e01e557>\u001b[0m in \u001b[0;36m<module>\u001b[1;34m()\u001b[0m\n\u001b[0;32m     41\u001b[0m \u001b[0mtrials\u001b[0m\u001b[1;33m.\u001b[0m\u001b[0mcache\u001b[0m\u001b[1;33m(\u001b[0m\u001b[1;33m)\u001b[0m\u001b[1;33m\u001b[0m\u001b[0m\n\u001b[0;32m     42\u001b[0m \u001b[1;33m\u001b[0m\u001b[0m\n\u001b[1;32m---> 43\u001b[1;33m \u001b[0mvalueAtRisk\u001b[0m \u001b[1;33m=\u001b[0m \u001b[0mfivePercentVaR\u001b[0m\u001b[1;33m(\u001b[0m\u001b[0mtrials\u001b[0m\u001b[1;33m)\u001b[0m\u001b[1;33m\u001b[0m\u001b[0m\n\u001b[0m\u001b[0;32m     44\u001b[0m \u001b[0mconditionalValueAtRisk\u001b[0m \u001b[1;33m=\u001b[0m \u001b[0mfivePercentCVaR\u001b[0m\u001b[1;33m(\u001b[0m\u001b[0mtrials\u001b[0m\u001b[1;33m)\u001b[0m\u001b[1;33m\u001b[0m\u001b[0m\n\u001b[0;32m     45\u001b[0m \u001b[1;33m\u001b[0m\u001b[0m\n",
      "\u001b[1;32m<ipython-input-59-36cf249e8d9e>\u001b[0m in \u001b[0;36mfivePercentVaR\u001b[1;34m(trials)\u001b[0m\n\u001b[0;32m      1\u001b[0m \u001b[1;32mdef\u001b[0m \u001b[0mfivePercentVaR\u001b[0m\u001b[1;33m(\u001b[0m\u001b[0mtrials\u001b[0m\u001b[1;33m)\u001b[0m\u001b[1;33m:\u001b[0m\u001b[1;33m\u001b[0m\u001b[0m\n\u001b[1;32m----> 2\u001b[1;33m     \u001b[0mnumTrials\u001b[0m \u001b[1;33m=\u001b[0m \u001b[0mtrials\u001b[0m\u001b[1;33m.\u001b[0m\u001b[0mcount\u001b[0m\u001b[1;33m(\u001b[0m\u001b[1;33m)\u001b[0m\u001b[1;33m\u001b[0m\u001b[0m\n\u001b[0m\u001b[0;32m      3\u001b[0m     \u001b[0mtopLosses\u001b[0m \u001b[1;33m=\u001b[0m \u001b[0mtrials\u001b[0m\u001b[1;33m.\u001b[0m\u001b[0mtakeOrdered\u001b[0m\u001b[1;33m(\u001b[0m\u001b[0mmax\u001b[0m\u001b[1;33m(\u001b[0m\u001b[0mround\u001b[0m\u001b[1;33m(\u001b[0m\u001b[0mnumTrials\u001b[0m\u001b[1;33m/\u001b[0m\u001b[1;36m20.0\u001b[0m\u001b[1;33m)\u001b[0m\u001b[1;33m,\u001b[0m \u001b[1;36m1\u001b[0m\u001b[1;33m)\u001b[0m\u001b[1;33m)\u001b[0m\u001b[1;33m\u001b[0m\u001b[0m\n\u001b[0;32m      4\u001b[0m     \u001b[1;32mreturn\u001b[0m \u001b[0mtopLosses\u001b[0m\u001b[1;33m[\u001b[0m\u001b[1;33m-\u001b[0m\u001b[1;36m1\u001b[0m\u001b[1;33m]\u001b[0m\u001b[1;33m\u001b[0m\u001b[0m\n\u001b[0;32m      5\u001b[0m \u001b[1;33m\u001b[0m\u001b[0m\n",
      "\u001b[1;32m/opt/spark/python/pyspark/rdd.py\u001b[0m in \u001b[0;36mcount\u001b[1;34m(self)\u001b[0m\n\u001b[0;32m   1004\u001b[0m         \u001b[1;36m3\u001b[0m\u001b[1;33m\u001b[0m\u001b[0m\n\u001b[0;32m   1005\u001b[0m         \"\"\"\n\u001b[1;32m-> 1006\u001b[1;33m         \u001b[1;32mreturn\u001b[0m \u001b[0mself\u001b[0m\u001b[1;33m.\u001b[0m\u001b[0mmapPartitions\u001b[0m\u001b[1;33m(\u001b[0m\u001b[1;32mlambda\u001b[0m \u001b[0mi\u001b[0m\u001b[1;33m:\u001b[0m \u001b[1;33m[\u001b[0m\u001b[0msum\u001b[0m\u001b[1;33m(\u001b[0m\u001b[1;36m1\u001b[0m \u001b[1;32mfor\u001b[0m \u001b[0m_\u001b[0m \u001b[1;32min\u001b[0m \u001b[0mi\u001b[0m\u001b[1;33m)\u001b[0m\u001b[1;33m]\u001b[0m\u001b[1;33m)\u001b[0m\u001b[1;33m.\u001b[0m\u001b[0msum\u001b[0m\u001b[1;33m(\u001b[0m\u001b[1;33m)\u001b[0m\u001b[1;33m\u001b[0m\u001b[0m\n\u001b[0m\u001b[0;32m   1007\u001b[0m \u001b[1;33m\u001b[0m\u001b[0m\n\u001b[0;32m   1008\u001b[0m     \u001b[1;32mdef\u001b[0m \u001b[0mstats\u001b[0m\u001b[1;33m(\u001b[0m\u001b[0mself\u001b[0m\u001b[1;33m)\u001b[0m\u001b[1;33m:\u001b[0m\u001b[1;33m\u001b[0m\u001b[0m\n",
      "\u001b[1;32m/opt/spark/python/pyspark/rdd.py\u001b[0m in \u001b[0;36msum\u001b[1;34m(self)\u001b[0m\n\u001b[0;32m    995\u001b[0m         \u001b[1;36m6.0\u001b[0m\u001b[1;33m\u001b[0m\u001b[0m\n\u001b[0;32m    996\u001b[0m         \"\"\"\n\u001b[1;32m--> 997\u001b[1;33m         \u001b[1;32mreturn\u001b[0m \u001b[0mself\u001b[0m\u001b[1;33m.\u001b[0m\u001b[0mmapPartitions\u001b[0m\u001b[1;33m(\u001b[0m\u001b[1;32mlambda\u001b[0m \u001b[0mx\u001b[0m\u001b[1;33m:\u001b[0m \u001b[1;33m[\u001b[0m\u001b[0msum\u001b[0m\u001b[1;33m(\u001b[0m\u001b[0mx\u001b[0m\u001b[1;33m)\u001b[0m\u001b[1;33m]\u001b[0m\u001b[1;33m)\u001b[0m\u001b[1;33m.\u001b[0m\u001b[0mfold\u001b[0m\u001b[1;33m(\u001b[0m\u001b[1;36m0\u001b[0m\u001b[1;33m,\u001b[0m \u001b[0moperator\u001b[0m\u001b[1;33m.\u001b[0m\u001b[0madd\u001b[0m\u001b[1;33m)\u001b[0m\u001b[1;33m\u001b[0m\u001b[0m\n\u001b[0m\u001b[0;32m    998\u001b[0m \u001b[1;33m\u001b[0m\u001b[0m\n\u001b[0;32m    999\u001b[0m     \u001b[1;32mdef\u001b[0m \u001b[0mcount\u001b[0m\u001b[1;33m(\u001b[0m\u001b[0mself\u001b[0m\u001b[1;33m)\u001b[0m\u001b[1;33m:\u001b[0m\u001b[1;33m\u001b[0m\u001b[0m\n",
      "\u001b[1;32m/opt/spark/python/pyspark/rdd.py\u001b[0m in \u001b[0;36mfold\u001b[1;34m(self, zeroValue, op)\u001b[0m\n\u001b[0;32m    869\u001b[0m         \u001b[1;31m# zeroValue provided to each partition is unique from the one provided\u001b[0m\u001b[1;33m\u001b[0m\u001b[1;33m\u001b[0m\u001b[0m\n\u001b[0;32m    870\u001b[0m         \u001b[1;31m# to the final reduce call\u001b[0m\u001b[1;33m\u001b[0m\u001b[1;33m\u001b[0m\u001b[0m\n\u001b[1;32m--> 871\u001b[1;33m         \u001b[0mvals\u001b[0m \u001b[1;33m=\u001b[0m \u001b[0mself\u001b[0m\u001b[1;33m.\u001b[0m\u001b[0mmapPartitions\u001b[0m\u001b[1;33m(\u001b[0m\u001b[0mfunc\u001b[0m\u001b[1;33m)\u001b[0m\u001b[1;33m.\u001b[0m\u001b[0mcollect\u001b[0m\u001b[1;33m(\u001b[0m\u001b[1;33m)\u001b[0m\u001b[1;33m\u001b[0m\u001b[0m\n\u001b[0m\u001b[0;32m    872\u001b[0m         \u001b[1;32mreturn\u001b[0m \u001b[0mreduce\u001b[0m\u001b[1;33m(\u001b[0m\u001b[0mop\u001b[0m\u001b[1;33m,\u001b[0m \u001b[0mvals\u001b[0m\u001b[1;33m,\u001b[0m \u001b[0mzeroValue\u001b[0m\u001b[1;33m)\u001b[0m\u001b[1;33m\u001b[0m\u001b[0m\n\u001b[0;32m    873\u001b[0m \u001b[1;33m\u001b[0m\u001b[0m\n",
      "\u001b[1;32m/opt/spark/python/pyspark/rdd.py\u001b[0m in \u001b[0;36mcollect\u001b[1;34m(self)\u001b[0m\n\u001b[0;32m    771\u001b[0m         \"\"\"\n\u001b[0;32m    772\u001b[0m         \u001b[1;32mwith\u001b[0m \u001b[0mSCCallSiteSync\u001b[0m\u001b[1;33m(\u001b[0m\u001b[0mself\u001b[0m\u001b[1;33m.\u001b[0m\u001b[0mcontext\u001b[0m\u001b[1;33m)\u001b[0m \u001b[1;32mas\u001b[0m \u001b[0mcss\u001b[0m\u001b[1;33m:\u001b[0m\u001b[1;33m\u001b[0m\u001b[0m\n\u001b[1;32m--> 773\u001b[1;33m             \u001b[0mport\u001b[0m \u001b[1;33m=\u001b[0m \u001b[0mself\u001b[0m\u001b[1;33m.\u001b[0m\u001b[0mctx\u001b[0m\u001b[1;33m.\u001b[0m\u001b[0m_jvm\u001b[0m\u001b[1;33m.\u001b[0m\u001b[0mPythonRDD\u001b[0m\u001b[1;33m.\u001b[0m\u001b[0mcollectAndServe\u001b[0m\u001b[1;33m(\u001b[0m\u001b[0mself\u001b[0m\u001b[1;33m.\u001b[0m\u001b[0m_jrdd\u001b[0m\u001b[1;33m.\u001b[0m\u001b[0mrdd\u001b[0m\u001b[1;33m(\u001b[0m\u001b[1;33m)\u001b[0m\u001b[1;33m)\u001b[0m\u001b[1;33m\u001b[0m\u001b[0m\n\u001b[0m\u001b[0;32m    774\u001b[0m         \u001b[1;32mreturn\u001b[0m \u001b[0mlist\u001b[0m\u001b[1;33m(\u001b[0m\u001b[0m_load_from_socket\u001b[0m\u001b[1;33m(\u001b[0m\u001b[0mport\u001b[0m\u001b[1;33m,\u001b[0m \u001b[0mself\u001b[0m\u001b[1;33m.\u001b[0m\u001b[0m_jrdd_deserializer\u001b[0m\u001b[1;33m)\u001b[0m\u001b[1;33m)\u001b[0m\u001b[1;33m\u001b[0m\u001b[0m\n\u001b[0;32m    775\u001b[0m \u001b[1;33m\u001b[0m\u001b[0m\n",
      "\u001b[1;32m/opt/spark/python/lib/py4j-0.8.2.1-src.zip/py4j/java_gateway.py\u001b[0m in \u001b[0;36m__call__\u001b[1;34m(self, *args)\u001b[0m\n\u001b[0;32m    536\u001b[0m         \u001b[0manswer\u001b[0m \u001b[1;33m=\u001b[0m \u001b[0mself\u001b[0m\u001b[1;33m.\u001b[0m\u001b[0mgateway_client\u001b[0m\u001b[1;33m.\u001b[0m\u001b[0msend_command\u001b[0m\u001b[1;33m(\u001b[0m\u001b[0mcommand\u001b[0m\u001b[1;33m)\u001b[0m\u001b[1;33m\u001b[0m\u001b[0m\n\u001b[0;32m    537\u001b[0m         return_value = get_return_value(answer, self.gateway_client,\n\u001b[1;32m--> 538\u001b[1;33m                 self.target_id, self.name)\n\u001b[0m\u001b[0;32m    539\u001b[0m \u001b[1;33m\u001b[0m\u001b[0m\n\u001b[0;32m    540\u001b[0m         \u001b[1;32mfor\u001b[0m \u001b[0mtemp_arg\u001b[0m \u001b[1;32min\u001b[0m \u001b[0mtemp_args\u001b[0m\u001b[1;33m:\u001b[0m\u001b[1;33m\u001b[0m\u001b[0m\n",
      "\u001b[1;32m/opt/spark/python/lib/py4j-0.8.2.1-src.zip/py4j/protocol.py\u001b[0m in \u001b[0;36mget_return_value\u001b[1;34m(answer, gateway_client, target_id, name)\u001b[0m\n\u001b[0;32m    298\u001b[0m                 raise Py4JJavaError(\n\u001b[0;32m    299\u001b[0m                     \u001b[1;34m'An error occurred while calling {0}{1}{2}.\\n'\u001b[0m\u001b[1;33m.\u001b[0m\u001b[1;33m\u001b[0m\u001b[0m\n\u001b[1;32m--> 300\u001b[1;33m                     format(target_id, '.', name), value)\n\u001b[0m\u001b[0;32m    301\u001b[0m             \u001b[1;32melse\u001b[0m\u001b[1;33m:\u001b[0m\u001b[1;33m\u001b[0m\u001b[0m\n\u001b[0;32m    302\u001b[0m                 raise Py4JError(\n",
      "\u001b[1;31mPy4JJavaError\u001b[0m: An error occurred while calling z:org.apache.spark.api.python.PythonRDD.collectAndServe.\n: org.apache.spark.SparkException: Job aborted due to stage failure: Task 7 in stage 13.0 failed 4 times, most recent failure: Lost task 7.3 in stage 13.0 (TID 628, spark-worker1-aml-lab-group18-prod-zoe.group18-prod-zoe): org.apache.spark.api.python.PythonException: Traceback (most recent call last):\n  File \"/opt/spark/python/lib/pyspark.zip/pyspark/worker.py\", line 98, in main\n    command = pickleSer._read_with_length(infile)\n  File \"/opt/spark/python/lib/pyspark.zip/pyspark/serializers.py\", line 164, in _read_with_length\n    return self.loads(obj)\n  File \"/opt/spark/python/lib/pyspark.zip/pyspark/serializers.py\", line 419, in loads\n    return pickle.loads(obj, encoding=encoding)\nImportError: No module named 'numpy'\n\n\tat org.apache.spark.api.python.PythonRunner$$anon$1.read(PythonRDD.scala:166)\n\tat org.apache.spark.api.python.PythonRunner$$anon$1.<init>(PythonRDD.scala:207)\n\tat org.apache.spark.api.python.PythonRunner.compute(PythonRDD.scala:125)\n\tat org.apache.spark.api.python.PythonRDD.compute(PythonRDD.scala:70)\n\tat org.apache.spark.rdd.RDD.computeOrReadCheckpoint(RDD.scala:300)\n\tat org.apache.spark.CacheManager.getOrCompute(CacheManager.scala:69)\n\tat org.apache.spark.rdd.RDD.iterator(RDD.scala:262)\n\tat org.apache.spark.api.python.PythonRDD.compute(PythonRDD.scala:70)\n\tat org.apache.spark.rdd.RDD.computeOrReadCheckpoint(RDD.scala:300)\n\tat org.apache.spark.rdd.RDD.iterator(RDD.scala:264)\n\tat org.apache.spark.scheduler.ResultTask.runTask(ResultTask.scala:66)\n\tat org.apache.spark.scheduler.Task.run(Task.scala:88)\n\tat org.apache.spark.executor.Executor$TaskRunner.run(Executor.scala:214)\n\tat java.util.concurrent.ThreadPoolExecutor.runWorker(ThreadPoolExecutor.java:1145)\n\tat java.util.concurrent.ThreadPoolExecutor$Worker.run(ThreadPoolExecutor.java:615)\n\tat java.lang.Thread.run(Thread.java:745)\n\nDriver stacktrace:\n\tat org.apache.spark.scheduler.DAGScheduler.org$apache$spark$scheduler$DAGScheduler$$failJobAndIndependentStages(DAGScheduler.scala:1283)\n\tat org.apache.spark.scheduler.DAGScheduler$$anonfun$abortStage$1.apply(DAGScheduler.scala:1271)\n\tat org.apache.spark.scheduler.DAGScheduler$$anonfun$abortStage$1.apply(DAGScheduler.scala:1270)\n\tat scala.collection.mutable.ResizableArray$class.foreach(ResizableArray.scala:59)\n\tat scala.collection.mutable.ArrayBuffer.foreach(ArrayBuffer.scala:47)\n\tat org.apache.spark.scheduler.DAGScheduler.abortStage(DAGScheduler.scala:1270)\n\tat org.apache.spark.scheduler.DAGScheduler$$anonfun$handleTaskSetFailed$1.apply(DAGScheduler.scala:697)\n\tat org.apache.spark.scheduler.DAGScheduler$$anonfun$handleTaskSetFailed$1.apply(DAGScheduler.scala:697)\n\tat scala.Option.foreach(Option.scala:236)\n\tat org.apache.spark.scheduler.DAGScheduler.handleTaskSetFailed(DAGScheduler.scala:697)\n\tat org.apache.spark.scheduler.DAGSchedulerEventProcessLoop.doOnReceive(DAGScheduler.scala:1496)\n\tat org.apache.spark.scheduler.DAGSchedulerEventProcessLoop.onReceive(DAGScheduler.scala:1458)\n\tat org.apache.spark.scheduler.DAGSchedulerEventProcessLoop.onReceive(DAGScheduler.scala:1447)\n\tat org.apache.spark.util.EventLoop$$anon$1.run(EventLoop.scala:48)\n\tat org.apache.spark.scheduler.DAGScheduler.runJob(DAGScheduler.scala:567)\n\tat org.apache.spark.SparkContext.runJob(SparkContext.scala:1824)\n\tat org.apache.spark.SparkContext.runJob(SparkContext.scala:1837)\n\tat org.apache.spark.SparkContext.runJob(SparkContext.scala:1850)\n\tat org.apache.spark.SparkContext.runJob(SparkContext.scala:1921)\n\tat org.apache.spark.rdd.RDD$$anonfun$collect$1.apply(RDD.scala:909)\n\tat org.apache.spark.rdd.RDDOperationScope$.withScope(RDDOperationScope.scala:147)\n\tat org.apache.spark.rdd.RDDOperationScope$.withScope(RDDOperationScope.scala:108)\n\tat org.apache.spark.rdd.RDD.withScope(RDD.scala:310)\n\tat org.apache.spark.rdd.RDD.collect(RDD.scala:908)\n\tat org.apache.spark.api.python.PythonRDD$.collectAndServe(PythonRDD.scala:405)\n\tat org.apache.spark.api.python.PythonRDD.collectAndServe(PythonRDD.scala)\n\tat sun.reflect.NativeMethodAccessorImpl.invoke0(Native Method)\n\tat sun.reflect.NativeMethodAccessorImpl.invoke(NativeMethodAccessorImpl.java:57)\n\tat sun.reflect.DelegatingMethodAccessorImpl.invoke(DelegatingMethodAccessorImpl.java:43)\n\tat java.lang.reflect.Method.invoke(Method.java:606)\n\tat py4j.reflection.MethodInvoker.invoke(MethodInvoker.java:231)\n\tat py4j.reflection.ReflectionEngine.invoke(ReflectionEngine.java:379)\n\tat py4j.Gateway.invoke(Gateway.java:259)\n\tat py4j.commands.AbstractCommand.invokeMethod(AbstractCommand.java:133)\n\tat py4j.commands.CallCommand.execute(CallCommand.java:79)\n\tat py4j.GatewayConnection.run(GatewayConnection.java:207)\n\tat java.lang.Thread.run(Thread.java:745)\nCaused by: org.apache.spark.api.python.PythonException: Traceback (most recent call last):\n  File \"/opt/spark/python/lib/pyspark.zip/pyspark/worker.py\", line 98, in main\n    command = pickleSer._read_with_length(infile)\n  File \"/opt/spark/python/lib/pyspark.zip/pyspark/serializers.py\", line 164, in _read_with_length\n    return self.loads(obj)\n  File \"/opt/spark/python/lib/pyspark.zip/pyspark/serializers.py\", line 419, in loads\n    return pickle.loads(obj, encoding=encoding)\nImportError: No module named 'numpy'\n\n\tat org.apache.spark.api.python.PythonRunner$$anon$1.read(PythonRDD.scala:166)\n\tat org.apache.spark.api.python.PythonRunner$$anon$1.<init>(PythonRDD.scala:207)\n\tat org.apache.spark.api.python.PythonRunner.compute(PythonRDD.scala:125)\n\tat org.apache.spark.api.python.PythonRDD.compute(PythonRDD.scala:70)\n\tat org.apache.spark.rdd.RDD.computeOrReadCheckpoint(RDD.scala:300)\n\tat org.apache.spark.CacheManager.getOrCompute(CacheManager.scala:69)\n\tat org.apache.spark.rdd.RDD.iterator(RDD.scala:262)\n\tat org.apache.spark.api.python.PythonRDD.compute(PythonRDD.scala:70)\n\tat org.apache.spark.rdd.RDD.computeOrReadCheckpoint(RDD.scala:300)\n\tat org.apache.spark.rdd.RDD.iterator(RDD.scala:264)\n\tat org.apache.spark.scheduler.ResultTask.runTask(ResultTask.scala:66)\n\tat org.apache.spark.scheduler.Task.run(Task.scala:88)\n\tat org.apache.spark.executor.Executor$TaskRunner.run(Executor.scala:214)\n\tat java.util.concurrent.ThreadPoolExecutor.runWorker(ThreadPoolExecutor.java:1145)\n\tat java.util.concurrent.ThreadPoolExecutor$Worker.run(ThreadPoolExecutor.java:615)\n\t... 1 more\n"
     ]
    }
   ],
   "source": [
    "# RUN SILMULATION\n",
    "def simulateTrialReturns(numTrials, factorMeans, factorCov, weights):\n",
    "    trialReturns = []\n",
    "    for i in range(0, numTrials):\n",
    "        # generate sample of factors' returns\n",
    "        trialFactorReturns = np.random.multivariate_normal(factorMeans, factorCov).tolist()\n",
    "        \n",
    "        # featurize the factors' returns\n",
    "        trialFeatures = featurize(trialFactorReturns)\n",
    "        \n",
    "        # insert weight for intercept term\n",
    "        trialFeatures.insert(0,1)\n",
    "        \n",
    "        trialTotalReturn = 0\n",
    "        \n",
    "        # calculate the return of each instrument\n",
    "        # then calulate the total of return for this trial features\n",
    "\n",
    "        #trialTotalReturn = sum(np.dot(weights[k][0], trialFeatures) for k in range(0, len(weights)))\n",
    "        \n",
    "        trialTotalReturn = sum(sum(weights[k][0][j]*trialFeatures[j] for j in range(0, len(trialFeatures))) for k in range(0, len(weights)))\n",
    "        \n",
    "        print(trialTotalReturn)\n",
    "        \n",
    "        trialReturns.append(trialTotalReturn)\n",
    "    return trialReturns\n",
    "\n",
    "\n",
    "        \n",
    "parallelism = 12\n",
    "numTrials = 200\n",
    "trial_indexes = list(range(0, parallelism))\n",
    "seedRDD = sc.parallelize(trial_indexes, parallelism)\n",
    "bFactorWeights = sc.broadcast(weights)\n",
    "\n",
    "trials = seedRDD.flatMap(lambda idx: \\\n",
    "                simulateTrialReturns(\n",
    "                    max(int(numTrials/parallelism), 1), \n",
    "                    factorMeans, factorCov,\n",
    "                    bFactorWeights\n",
    "                ))\n",
    "trials.cache()\n",
    "\n",
    "valueAtRisk = fivePercentVaR(trials)\n",
    "conditionalValueAtRisk = fivePercentCVaR(trials)\n",
    "\n",
    "print (\"Value at Risk(VaR) 5%:\", valueAtRisk)\n",
    "print (\"Conditional Value at Risk(CVaR) 5%:\", conditionalValueAtRisk)"
   ]
  },
  {
   "cell_type": "markdown",
   "metadata": {},
   "source": [
    "The value of VaR depends on how many invested stocks and the chosen distribution of random variables. Assume that we get VaR 5% = -2.66,  that means that there is a 0.05 probability that the portfolio will fall in value by more than \\$2.66 over a two weeks period if there is no trading. In other words, the loses are less than \\$2.66 over two weeks period with 95% confidence level. When a loss over two weeks is more than \\$2.66, we call it **failure** (or **exception**). Informally, because of 5% probability, we expect that there are only $0.05*W$ failures out of total $W$ windows."
   ]
  },
  {
   "cell_type": "markdown",
   "metadata": {
    "collapsed": false
   },
   "source": [
    "### Step 5: Evaluating the results using backtesting method\n",
    "In general, the error in a Monte Carlo simulation should be proportional to 1/sqrt(n), where n is the number of trials. This means, for example, that quadrupling the number of trials should approximately cut the error in half. A good way to check the quality of a result is backtesting on historical data. Backtesting is a statistical procedure where actual losses are compared to the estimated VaR. For instance, if the confidence level used to calculate VaR is 95% (or VaR 5%), we expect only 5 failures over 100 two-week time windows.\n",
    "\n",
    "The most common test of a VaR model is counting the number of VaR failures, i.e, in how many windows, the losses exceed VaR estimate. If the number of exceptions is less than selected confidence level would indicate, the VaR model overestimates the risk. On the contrary, if there are too many exceptions, the risk is underestimated. However, it's very hard to observe the amount of failures suggested by the confidence level exactly. Therefore, people try to study whether the number of failures is reasonable or not, or will the model be accepted or rejected.\n",
    "\n",
    "One common test is Kupiec's proportion-of-failures (POF) test. This test considers how the portfolio performed at many historical time intervals and counts the number of times that the losses exceeded the VaR. The null hypothesis is that the VaR is reasonable, and a sufficiently extreme test statistic means that the VaR estimate does not accurately describe the data. The test statistic is computed as:\n",
    "\n",
    "$$\n",
    "-2ln\\Bigg(\\frac{(1-p)^{T-x}p^x}{(1-\\frac{x}{T})^{T-x}(\\frac{x}{T})^x}\\Bigg)\n",
    "$$\n",
    "\n",
    "where:\n",
    "\n",
    "$p$ is the quantile-of-loss of the VaR calculation (e.g, in VaR 5%, p=0.05),\n",
    "\n",
    "$x$ (the number of failures) is the number of historical intervals over which the losses exceeded the VaR \n",
    "\n",
    "$T$ is  the total number of historical intervals considered\n",
    "\n",
    "Or we can expand out the log for better numerical stability:\n",
    "\n",
    "$$\n",
    "\\begin{equation}\n",
    "-2\\Big((T-x)ln(1-p)+x*ln(p)-(T-x)ln(1-\\frac{x}{T})-x*ln(\\frac{x}{T})\\Big)\n",
    "\\end{equation}\n",
    "$$\n",
    "\n",
    "If we assume the null hypothesis that the VaR is reasonable, then this test statistic is drawn from a chi-squared distribution with a single degree of freedom. By using Chi-squared distribution, we can find the `p-value` accompanying our test statistic value.  If `p-value` exceeds the critical value of the Chi-squared distribution, we do have sufficient evidence to reject the null hypothesis that the model is reasonable. Or we can say, in that case, the model is considered as inaccurate.\n",
    "\n",
    "For example, assume that we calculate VaR 5% (the confidence level of the VaR model is 95%) and get value VaR = 2.26. We also observed 50 exceptions over 500 time windows. Using the formular above, the test statistic `p-value` is calculated and equal to `8.08`. Compared to `3.84`, the critical value of Chi-squared distribution with one degree of freedom at probability 5%, the test statistic is larger. So, the model is rejected. The critical values of Chi-squared can be found by following [this link](https://people.richland.edu/james/lecture/m170/tbl-chi.html).\n",
    "However, in this Notebook, it's not a good idea to find the corresponding critical value by looking in a \"messy\" table, especially when we need to change the confidence level. Insteads, from `p-value`, we will calculate the probability of the test statistic in Chi-square thanks to some functions in package `scipy`. If the calculated probability is smaller than the quantile of loss (e.g, 0.05), the model is rejected and vice versa.\n"
   ]
  },
  {
   "cell_type": "markdown",
   "metadata": {},
   "source": [
    "![](https://farm2.staticflickr.com/1604/24934700445_833f0a5649_t.jpg)"
   ]
  },
  {
   "cell_type": "markdown",
   "metadata": {},
   "source": [
    "<div class='anchor' ></div>\n",
    "### Question 8\n",
    "\n",
    "#### Question 8.1\n",
    "Write a function to calculate the number of failures, that is when the losses (in the original data) exceed the VaR.\n",
    "\n",
    "HINT:\n",
    "- First, we need to calculate the total loss in each 2-week time interval\n",
    "- If the total loss of a time interval exceeds VaR, then we say that our VaR fails to estimate the risk in that time interval.\n",
    "- Return the number of failures\n",
    "\n",
    "NOTE: The loss is often has negative value, so, be careful when compare it to VaR."
   ]
  },
  {
   "cell_type": "code",
   "execution_count": null,
   "metadata": {
    "collapsed": true
   },
   "outputs": [],
   "source": [
    "from scipy import stats\n",
    "import math\n",
    "\n",
    "def countFailures(stocksReturns, valueAtRisk):\n",
    "    failures = 0\n",
    "    # iterate over time intervals\n",
    "    for i in range(0, len(stocksReturns)):\n",
    "        # calculate the losses in each time interval\n",
    "        loss = sum([item[i] for item in stocksReturns])\n",
    "        \n",
    "        # if the loss exceeds VaR\n",
    "        if loss < valueAtRisk:\n",
    "            failures += 1\n",
    "    return failures"
   ]
  },
  {
   "cell_type": "markdown",
   "metadata": {},
   "source": [
    "<div class='anchor' ></div>\n",
    "\n",
    "#### Question 8.2\n",
    "Write a function named `kupiecTestStatistic` to calculate the test statistic which was described in the above equation."
   ]
  },
  {
   "cell_type": "code",
   "execution_count": null,
   "metadata": {
    "collapsed": true
   },
   "outputs": [],
   "source": [
    "def kupiecTestStatistic(total, failures, confidenceLevel):\n",
    "    failureRatio = failures/total\n",
    "    logNumer = (total - failures)*math.log(1 - confidenceLevel) + failures*math.log(confidenceLevel)\n",
    "    logDenom = (total - failures)*math.log(1 - failureRatio) + failures*math.log(failureRatio)\n",
    "    return -2 * (logNumer - logDenom)\n",
    "    \n",
    "# test the function\n",
    "assert (round(kupiecTestStatistic(250, 36, 0.1), 2) == 4.80), \"function kupiecTestStatistic runs incorrectly\""
   ]
  },
  {
   "cell_type": "markdown",
   "metadata": {},
   "source": [
    "Now we can find the p-value accompanying our test statistic value."
   ]
  },
  {
   "cell_type": "code",
   "execution_count": null,
   "metadata": {
    "collapsed": false
   },
   "outputs": [],
   "source": [
    "def kupiecTestPValue(stocksReturns, valueAtRisk, confidenceLevel):\n",
    "    failures = countFailures(stocksReturns, valueAtRisk)\n",
    "    print(\"num failures:\", failures)\n",
    "    if failures == 0:\n",
    "        # the model is very good\n",
    "        return 1\n",
    "    total = len(stocksReturns[0])\n",
    "    testStatistic = kupiecTestStatistic(total, failures, confidenceLevel)\n",
    "    #return 1 - stats.chi2.cdf(testStatistic, 1.0)\n",
    "    return chisqprob(testStatistic, 1.0)\n",
    "\n",
    "varConfidenceInterval = bootstrappedConfidenceInterval(trials, fivePercentVaR, 100, 0.05)\n",
    "cvarConfidenceInterval = bootstrappedConfidenceInterval(trials, fivePercentCVaR, 100, .05)\n",
    "print(\"VaR confidence interval: \" , varConfidenceInterval)\n",
    "print(\"CVaR confidence interval: \" , cvarConfidenceInterval)\n",
    "print(\"Kupiec test p-value: \" , kupiecTestPValue(stocksReturns, valueAtRisk, 0.05))"
   ]
  },
  {
   "cell_type": "markdown",
   "metadata": {},
   "source": [
    "<div class='anchor' ></div>\n",
    "#### Question 8.3\n",
    "Discuss the results you have obtained"
   ]
  },
  {
   "cell_type": "markdown",
   "metadata": {},
   "source": [
    "<div class=\"answer\">\n",
    "\n",
    "PUT YOUR ANSWER HERE !\n",
    "\n",
    "</div>"
   ]
  },
  {
   "cell_type": "markdown",
   "metadata": {},
   "source": [
    "![](https://farm2.staticflickr.com/1604/24934700445_833f0a5649_t.jpg)"
   ]
  },
  {
   "cell_type": "markdown",
   "metadata": {},
   "source": [
    "<div class='anchor' ></div>\n",
    "### Question 9\n",
    "\n",
    "Assume that we invest in more than 100 stocks. Use the same market factors as for the previous questions to estimate VaR by running MCS, then validate your result.\n",
    "\n",
    "What is the main observation you have, once you answer this question? When you plan to invest in more instruments, how is your ability to predict the risk going to be affected?\n"
   ]
  },
  {
   "cell_type": "code",
   "execution_count": null,
   "metadata": {
    "collapsed": true
   },
   "outputs": [],
   "source": [
    "# select path of all stock data files in \"stock_folder\"\n",
    "files = [join(stock_folder, f) for f in listdir(stock_folder) if isfile(join(stock_folder, f))]\n",
    "\n",
    "# assume that we invest only the first 35 stocks (for faster computation)\n",
    "files = files[:300]\n",
    "\n",
    "# read each line in each file, convert it into the format: (date, value)\n",
    "rawStocks_new = [process_stock_file(f) for f in files]\n",
    "\n",
    "# select only instruments which have more than 5 years of history\n",
    "# Note: the number of business days in a year is 260\n",
    "number_of_years = 5\n",
    "#print(rawStocks[0][-1][0])\n",
    "rawStocks_new = list(filter(lambda instrument: (instrument[-1][0] - instrument[0][0]).days > number_of_years*260  , rawStocks_new))\n",
    "\n",
    "print(\"The number of stocks after removing candidates which have historical information for less than 5 years:\",len(rawStocks_new))\n",
    "\n",
    "stocks_new= list(map(lambda stock: \\\n",
    "            fillInHistory(\n",
    "                trimToRegion(stock, start, end), \n",
    "            start, end), \n",
    "        rawStocks_new))\n",
    "\n",
    "\n",
    "\n",
    "# merge two factors, trim each factor into a time region\n",
    "# and fill up the missing values\n",
    "allfactors = factors1 + factors2\n",
    "factors_new = list(map(lambda factor: \\\n",
    "            fillInHistory(\n",
    "                trimToRegion(factor, start, end), \n",
    "            start, end), \n",
    "            allfactors))\n",
    "\n",
    "stocksReturns_new = list(map(twoWeekReturns, stocks_new))\n",
    "factorsReturns_new = list(map(twoWeekReturns, factors_new))\n",
    "\n",
    "# transpose factorsReturns\n",
    "factorMat_new = transpose(factorsReturns_new)\n",
    "\n",
    "# featurize each row of factorMat\n",
    "factorFeatures_new = list(map(featurize,factorMat_new))\n",
    "\n",
    "# OLS require parameter is a numpy array\n",
    "factor_columns_new = np.array(factorFeatures_new)\n",
    "\n",
    "#add a constant - the intercept term for each instrument i.\n",
    "factor_columns_new = sm.add_constant(factor_columns_new, prepend=True)\n",
    "\n",
    "# estimate weights\n",
    "weights_new = [estimateParams(factor_columns_new,factorsReturns_new) for factorsReturns_new in factorsReturns_new]\n",
    "\n",
    "factorCov_new = np.cov(factorsReturns_new)\n",
    "factorMeans_new = [sum(factorsReturns_new[i])/len(factorsReturns_new[i]) for i in range(0,4)]\n",
    "\n",
    "bFactorWeights_new = sc.broadcast(weights_new)\n",
    "\n",
    "trials_new = seedRDD.flatMap(lambda idx: \\\n",
    "                simulateTrialReturns(\n",
    "                    max(int(numTrials/parallelism), 1), \n",
    "                    factorMeans_new, factorCov_new,\n",
    "                    bFactorWeights_new\n",
    "                ))\n",
    "trials_new.cache()\n",
    "\n",
    "valueAtRisk = fivePercentVaR(trials_new)\n",
    "conditionalValueAtRisk = fivePercentCVaR(trials_new)\n"
   ]
  },
  {
   "cell_type": "markdown",
   "metadata": {},
   "source": [
    "<div class=\"answer\">\n",
    "\n",
    "PUT YOUR ANSWER HERE !\n",
    "\n",
    "</div>"
   ]
  },
  {
   "cell_type": "markdown",
   "metadata": {},
   "source": [
    "![](https://farm2.staticflickr.com/1604/24934700445_833f0a5649_t.jpg)"
   ]
  },
  {
   "cell_type": "markdown",
   "metadata": {},
   "source": [
    "<div class='anchor' ></div>\n",
    "### Question 10\n",
    "\n",
    "In the previous questions, we used the normal distributions to sample the factors returns.\n",
    "\n",
    "Try to study how results vary when selecting other probability distributions: our goal is to improve the result of our MCS."
   ]
  },
  {
   "cell_type": "markdown",
   "metadata": {},
   "source": [
    "# 6. Summary\n",
    "In this lecture, we studied the Monte Carlo Simulation method and its application to estimate financial risk. To apply it, first, we needed to define the relationship between market factors and the instruments' returns. In such step, you must define the model which maps the market factors' values to the instruments' values: in our use case, we used a linear regression function for building our model. Next, we also had to find the parameters of our model, which are the weights of the factors we considered. Then, we had to study the distribution of each market factor. A good way to do that is using Kernel density estimation to smooth the distribution and plot it. Depending on the shape of each figure, we had to guess the best fit distribution for each factor: in our use case, we used a very simple approach, and decided that our smoothed distributions all looked normal distributions. \n",
    "\n",
    "Then, the idea of Monte Carlo simulation was to generate many possible values for each factors and calculate the corresponding outcomes by a well defined model in each trial. After many trials, we were able to calculate VaR from the sequences of outcome's values. When the number of trials is large enough, the VaR converges to reasonable values, that we could validate using well-known statistica"
   ]
  },
  {
   "cell_type": "markdown",
   "metadata": {
    "collapsed": true
   },
   "source": [
    "# References\n",
    "- The example in section 2 is inspired from [this article](http://www.solver.com/monte-carlo-simulation-example).\n",
    "- [Backtesting Value-at-Risk models](https://aaltodoc.aalto.fi/bitstream/handle/123456789/181/hse_ethesis_12049.pdf?sequence=1) (Kansantaloustiede, 2009) - (A good reference to study Backtesting).\n"
   ]
  },
  {
   "cell_type": "code",
   "execution_count": null,
   "metadata": {
    "collapsed": true
   },
   "outputs": [],
   "source": []
  }
 ],
 "metadata": {
  "kernelspec": {
   "display_name": "Python 3",
   "language": "python",
   "name": "python3"
  },
  "language_info": {
   "codemirror_mode": {
    "name": "ipython",
    "version": 3
   },
   "file_extension": ".py",
   "mimetype": "text/x-python",
   "name": "python",
   "nbconvert_exporter": "python",
   "pygments_lexer": "ipython3",
   "version": "3.4.4"
  }
 },
 "nbformat": 4,
 "nbformat_minor": 0
}
